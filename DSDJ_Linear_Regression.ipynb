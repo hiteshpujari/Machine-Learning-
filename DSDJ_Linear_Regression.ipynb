{
  "nbformat": 4,
  "nbformat_minor": 0,
  "metadata": {
    "kernelspec": {
      "display_name": "Python 3",
      "language": "python",
      "name": "python3"
    },
    "language_info": {
      "codemirror_mode": {
        "name": "ipython",
        "version": 3
      },
      "file_extension": ".py",
      "mimetype": "text/x-python",
      "name": "python",
      "nbconvert_exporter": "python",
      "pygments_lexer": "ipython3",
      "version": "3.7.0"
    },
    "colab": {
      "name": "DSDJ-Linear-Regression.ipynb",
      "provenance": [],
      "include_colab_link": true
    }
  },
  "cells": [
    {
      "cell_type": "markdown",
      "metadata": {
        "id": "view-in-github",
        "colab_type": "text"
      },
      "source": [
        "<a href=\"https://colab.research.google.com/github/hiteshpujari/Machine-Learning-/blob/master/DSDJ_Linear_Regression.ipynb\" target=\"_parent\"><img src=\"https://colab.research.google.com/assets/colab-badge.svg\" alt=\"Open In Colab\"/></a>"
      ]
    },
    {
      "cell_type": "markdown",
      "metadata": {
        "id": "Ln2RLpUALuzF",
        "colab_type": "text"
      },
      "source": [
        "# Table of Contents\n",
        "***\n",
        "\n",
        "## Introduction to Linear Regression\n",
        "- [Relationships](#relation)\n",
        "\n",
        "- [What is Linear Regression? Why?](#Ensemble)\n",
        "    \n",
        "- [How it Works](#school_attendance)\n",
        "    \n",
        "- [Key Terminologies](#school_attendance)\n",
        "    \n",
        "- [Statistical Modeling vs Predictive Modeling](#hi)\n",
        "\n",
        "\n",
        "## Odinary Least Squares and Model Parameters\n",
        "- [Model Parameters](#mp)\n",
        "\n",
        "- [Ordinary Least Squares](#ols)\n",
        "\n",
        "\n",
        "## Finding Model Parameters\n",
        "- [Normal Equation](#ne)\n",
        "- [Gradient Descent](#gd)\n",
        "\n",
        "\n",
        "## Interpreting OLS Regression Results\n",
        "- [R Squared](#r2)\n",
        "\n",
        "- [Adjusted R Squared](#r22)\n",
        "\n",
        "- [Intercept and Coefficients](#coeff)\n",
        "\n",
        "- [Null-Hypothesis and P-value](#p)\n",
        "\n",
        "\n",
        "## Assumptions & How to Check\n",
        "- [Detecting Heteroskedestacity - Residual Plot](#DV)\n",
        "\n",
        "- [Detecting Multicollinearity - VIF](#mc)\n",
        "\n",
        "- [Detecting Linearity](#hetero)\n",
        "\n",
        "- [Normal Distribution of Residuals - QQ Plot](#nr)\n",
        "\n",
        "\n",
        "## Modeling\n",
        "- [Simple Linear Regresssion](#sl)\n",
        "\n",
        "- [Multiple Linear Regression](#ml)\n",
        "\n",
        "- [Polynomial Regression](#pol)\n",
        "\n",
        "- [Regularized Linear Regression (L1 & L2)](#l1)\n",
        "\n",
        "## Evaluation Performance\n",
        "- [R Squared / Adjusted R Squared](#r22)\n",
        "\n",
        "- [MAE](#mae)\n",
        "\n",
        "- [MSE/RMSE](#rmse)\n",
        "\n",
        "- [RMSLE](#rmsle)\n"
      ]
    },
    {
      "cell_type": "markdown",
      "metadata": {
        "id": "XUv_JQMMLuzM",
        "colab_type": "text"
      },
      "source": [
        "<img src='https://ichef.bbci.co.uk/images/ic/480xn/p06h0pyt.jpg'/>\n",
        "# Relationships"
      ]
    },
    {
      "cell_type": "markdown",
      "metadata": {
        "id": "jdETlSYDLuzQ",
        "colab_type": "text"
      },
      "source": [
        "When you think about **relationships**, what do you think of? \n",
        "\n",
        "The goal of linear regression to model the relationship between X and Y. And these relationships can be seen as:\n",
        "1. Independent vs Depedent\n",
        "2. Simple vs Complex\n",
        "3. Positive vs Negative\n",
        "4. Strong vs Weak\n",
        "5. Linear vs Non-Linear"
      ]
    },
    {
      "cell_type": "markdown",
      "metadata": {
        "id": "oAnI6KcRLuzT",
        "colab_type": "text"
      },
      "source": [
        "# What is Linear Regression? "
      ]
    },
    {
      "cell_type": "markdown",
      "metadata": {
        "id": "XXL-7mRgLuzX",
        "colab_type": "text"
      },
      "source": [
        "Linear Regression is a method to model the **relationship** between a set of **independent variables $X$** (also knowns as explanatory variables, features, predictors) and a **dependent variable $Y$**.\n",
        "\n",
        "\n",
        "### The Magic Formula\n",
        "\n",
        "$$ Y = \\beta_0 + \\beta_1 X + \\epsilon$$\n",
        "\n",
        "**What does each term mean?**\n",
        "\n",
        "- Y is the response\n",
        "- X is the feature\n",
        "- $\\beta_0$ is the intercept\n",
        "- $\\beta_1$ is the coefficient for X\n",
        "- $\\epsilon$ is the error term\n",
        "\n",
        "$\\beta_0$ and $\\beta_1$ are called the **model coefficients**"
      ]
    },
    {
      "cell_type": "markdown",
      "metadata": {
        "id": "GpFo--OcLuza",
        "colab_type": "text"
      },
      "source": [
        "# How it works?\n",
        "\n",
        "The Linear Regression Model works by finding the **best fit line** through the data by:\n",
        "1. Passing through as many points as possible\n",
        "2. Minimizing the residuals for each point\n",
        "<img src='https://slideplayer.com/slide/5001953/16/images/7/Linear+Regression+Objective%3A+Want+to+fit+the+best+line+to+the+data+points+%28that+exhibit+linear+relation%29..jpg'>"
      ]
    },
    {
      "cell_type": "markdown",
      "metadata": {
        "id": "V5mwCrr5Luze",
        "colab_type": "text"
      },
      "source": [
        "# Key Terms\n",
        "- **Response**: The varaible we are trying to predict\n",
        "    - Synonyms: dependent varaible, Y, target, outcome\n",
        "- **Independent Variable**: The variable used to predict the response\n",
        "    - Synonyms: independent variable, X, feature, attribute\n",
        "- **Intercept**: The intercept of the regression line (the value of Y when X=0)\n",
        "    - Synonyms: B0\n",
        "- **Coefficient**: The slope of the regression line\n",
        "    - Snonyms: slope, B1, weights, parameter estimates\n",
        "- **Residuals**: The difference between the observed values and the fitted values (Actual - Predicted)\n",
        "    - Synonyms: errors\n",
        "- **Ordinary Least Squares**: The method of fitting a regression by minimiazing the sum of squared residuals\n",
        "    - Synonyms: OLS"
      ]
    },
    {
      "cell_type": "markdown",
      "metadata": {
        "id": "cmDHosf8Luzh",
        "colab_type": "text"
      },
      "source": [
        "# Use Cases (2)\n",
        "Linear Regression can be used for either explanation or prediction:\n",
        "\n",
        "### Statistical Modeling\n",
        "- When the goal is **to estimate the relationship** between your DV and IVs\n",
        "- When the goal is to understand the overall relationship\n",
        "- MODEL ASSUMPTION IS IMPORTANT HERE\n",
        "- When the focus is on the **parameters** of interest: $$ \\beta_0 + \\beta_1 + ...\\beta_n $$\n",
        "\n",
        "### Predictive Modeling\n",
        "- When the goal is **to create a prediction model** that allows you to estimate an outcome\n",
        "- When the focus is on the **outcome**: Y"
      ]
    },
    {
      "cell_type": "markdown",
      "metadata": {
        "id": "SC9FnVPILuzk",
        "colab_type": "text"
      },
      "source": [
        "<img src='https://cdn-images-1.medium.com/max/1600/1*k2bLmeYIG7z7dCyxADedhQ.png'>"
      ]
    },
    {
      "cell_type": "markdown",
      "metadata": {
        "id": "lVLBXhJ3Luzn",
        "colab_type": "text"
      },
      "source": [
        "### Import Libraries"
      ]
    },
    {
      "cell_type": "code",
      "metadata": {
        "id": "2zRP_9lkLuzr",
        "colab_type": "code",
        "colab": {}
      },
      "source": [
        "# Import Libraries \n",
        "%matplotlib inline\n",
        "import numpy as np # imports a fast numerical programming library\n",
        "import scipy as sp #imports stats functions, amongst other things\n",
        "import matplotlib as mpl # this actually imports matplotlib\n",
        "import matplotlib.cm as cm #allows us easy access to colormaps\n",
        "import matplotlib.pyplot as plt #sets up plotting under plt\n",
        "import pandas as pd #lets us handle data as dataframes\n",
        "import seaborn as sns #sets up styles and gives us more plotting options\n",
        "from sklearn.preprocessing import PolynomialFeatures\n",
        "from sklearn.model_selection import train_test_split\n",
        "from sklearn.metrics import r2_score, mean_squared_error, mean_absolute_error"
      ],
      "execution_count": null,
      "outputs": []
    },
    {
      "cell_type": "markdown",
      "metadata": {
        "id": "W0OQJNa-Luz_",
        "colab_type": "text"
      },
      "source": [
        "### Boston Housing Dataset"
      ]
    },
    {
      "cell_type": "code",
      "metadata": {
        "scrolled": true,
        "id": "KP4ZRawlLu0C",
        "colab_type": "code",
        "colab": {},
        "outputId": "cc9e8bb5-46c0-4837-9fda-416fd2840d4b"
      },
      "source": [
        "# read data into a DataFrame\n",
        "from sklearn.datasets import load_boston\n",
        "boston_dataset = load_boston()\n",
        "df = pd.DataFrame(boston_dataset.data, columns=boston_dataset.feature_names)\n",
        "df.head()"
      ],
      "execution_count": null,
      "outputs": [
        {
          "output_type": "execute_result",
          "data": {
            "text/html": [
              "<div>\n",
              "<style scoped>\n",
              "    .dataframe tbody tr th:only-of-type {\n",
              "        vertical-align: middle;\n",
              "    }\n",
              "\n",
              "    .dataframe tbody tr th {\n",
              "        vertical-align: top;\n",
              "    }\n",
              "\n",
              "    .dataframe thead th {\n",
              "        text-align: right;\n",
              "    }\n",
              "</style>\n",
              "<table border=\"1\" class=\"dataframe\">\n",
              "  <thead>\n",
              "    <tr style=\"text-align: right;\">\n",
              "      <th></th>\n",
              "      <th>CRIM</th>\n",
              "      <th>ZN</th>\n",
              "      <th>INDUS</th>\n",
              "      <th>CHAS</th>\n",
              "      <th>NOX</th>\n",
              "      <th>RM</th>\n",
              "      <th>AGE</th>\n",
              "      <th>DIS</th>\n",
              "      <th>RAD</th>\n",
              "      <th>TAX</th>\n",
              "      <th>PTRATIO</th>\n",
              "      <th>B</th>\n",
              "      <th>LSTAT</th>\n",
              "    </tr>\n",
              "  </thead>\n",
              "  <tbody>\n",
              "    <tr>\n",
              "      <th>0</th>\n",
              "      <td>0.00632</td>\n",
              "      <td>18.0</td>\n",
              "      <td>2.31</td>\n",
              "      <td>0.0</td>\n",
              "      <td>0.538</td>\n",
              "      <td>6.575</td>\n",
              "      <td>65.2</td>\n",
              "      <td>4.0900</td>\n",
              "      <td>1.0</td>\n",
              "      <td>296.0</td>\n",
              "      <td>15.3</td>\n",
              "      <td>396.90</td>\n",
              "      <td>4.98</td>\n",
              "    </tr>\n",
              "    <tr>\n",
              "      <th>1</th>\n",
              "      <td>0.02731</td>\n",
              "      <td>0.0</td>\n",
              "      <td>7.07</td>\n",
              "      <td>0.0</td>\n",
              "      <td>0.469</td>\n",
              "      <td>6.421</td>\n",
              "      <td>78.9</td>\n",
              "      <td>4.9671</td>\n",
              "      <td>2.0</td>\n",
              "      <td>242.0</td>\n",
              "      <td>17.8</td>\n",
              "      <td>396.90</td>\n",
              "      <td>9.14</td>\n",
              "    </tr>\n",
              "    <tr>\n",
              "      <th>2</th>\n",
              "      <td>0.02729</td>\n",
              "      <td>0.0</td>\n",
              "      <td>7.07</td>\n",
              "      <td>0.0</td>\n",
              "      <td>0.469</td>\n",
              "      <td>7.185</td>\n",
              "      <td>61.1</td>\n",
              "      <td>4.9671</td>\n",
              "      <td>2.0</td>\n",
              "      <td>242.0</td>\n",
              "      <td>17.8</td>\n",
              "      <td>392.83</td>\n",
              "      <td>4.03</td>\n",
              "    </tr>\n",
              "    <tr>\n",
              "      <th>3</th>\n",
              "      <td>0.03237</td>\n",
              "      <td>0.0</td>\n",
              "      <td>2.18</td>\n",
              "      <td>0.0</td>\n",
              "      <td>0.458</td>\n",
              "      <td>6.998</td>\n",
              "      <td>45.8</td>\n",
              "      <td>6.0622</td>\n",
              "      <td>3.0</td>\n",
              "      <td>222.0</td>\n",
              "      <td>18.7</td>\n",
              "      <td>394.63</td>\n",
              "      <td>2.94</td>\n",
              "    </tr>\n",
              "    <tr>\n",
              "      <th>4</th>\n",
              "      <td>0.06905</td>\n",
              "      <td>0.0</td>\n",
              "      <td>2.18</td>\n",
              "      <td>0.0</td>\n",
              "      <td>0.458</td>\n",
              "      <td>7.147</td>\n",
              "      <td>54.2</td>\n",
              "      <td>6.0622</td>\n",
              "      <td>3.0</td>\n",
              "      <td>222.0</td>\n",
              "      <td>18.7</td>\n",
              "      <td>396.90</td>\n",
              "      <td>5.33</td>\n",
              "    </tr>\n",
              "  </tbody>\n",
              "</table>\n",
              "</div>"
            ],
            "text/plain": [
              "      CRIM    ZN  INDUS  CHAS    NOX     RM   AGE     DIS  RAD    TAX  \\\n",
              "0  0.00632  18.0   2.31   0.0  0.538  6.575  65.2  4.0900  1.0  296.0   \n",
              "1  0.02731   0.0   7.07   0.0  0.469  6.421  78.9  4.9671  2.0  242.0   \n",
              "2  0.02729   0.0   7.07   0.0  0.469  7.185  61.1  4.9671  2.0  242.0   \n",
              "3  0.03237   0.0   2.18   0.0  0.458  6.998  45.8  6.0622  3.0  222.0   \n",
              "4  0.06905   0.0   2.18   0.0  0.458  7.147  54.2  6.0622  3.0  222.0   \n",
              "\n",
              "   PTRATIO       B  LSTAT  \n",
              "0     15.3  396.90   4.98  \n",
              "1     17.8  396.90   9.14  \n",
              "2     17.8  392.83   4.03  \n",
              "3     18.7  394.63   2.94  \n",
              "4     18.7  396.90   5.33  "
            ]
          },
          "metadata": {
            "tags": []
          },
          "execution_count": 92
        }
      ]
    },
    {
      "cell_type": "markdown",
      "metadata": {
        "id": "nHXBfE3BLu0b",
        "colab_type": "text"
      },
      "source": [
        "#### Get the Target Variable "
      ]
    },
    {
      "cell_type": "code",
      "metadata": {
        "id": "MYsPzqeMLu0e",
        "colab_type": "code",
        "colab": {}
      },
      "source": [
        "df['MEDV'] = boston_dataset.target\n",
        "df['LOGMEDV'] = np.log(df.MEDV+1) # Get Log Transformed MEDV\n",
        "Y = df.MEDV"
      ],
      "execution_count": null,
      "outputs": []
    },
    {
      "cell_type": "markdown",
      "metadata": {
        "id": "xia1SibjLu0w",
        "colab_type": "text"
      },
      "source": [
        "### Plot Price Distribution"
      ]
    },
    {
      "cell_type": "markdown",
      "metadata": {
        "id": "srM7VJCkLu00",
        "colab_type": "text"
      },
      "source": [
        "<div class=\"alert alert-block alert-success\">\n",
        "<b>TO DO:</b>  \n",
        "<p>1. **Plot the distribution of MEDV** and look at its distribution</p>\n",
        "<p>2. Now try plotting the distribution of the **log transformed** MEDV. **Does it look more normally distributed?**</p>\n",
        "\n",
        "</div>\n"
      ]
    },
    {
      "cell_type": "code",
      "metadata": {
        "id": "Y8B5XKYHLu04",
        "colab_type": "code",
        "colab": {},
        "outputId": "2c2dac2b-f802-4297-f1cb-694a749502ae"
      },
      "source": [
        "# Plot Price Distribution\n",
        "plt.subplot(1, 2, 1)\n",
        "(df.MEDV).plot.hist(bins=20,figsize=(15, 6), edgecolor = 'white')\n",
        "plt.xlabel('price', fontsize=12)\n",
        "plt.title('Price Distribution', fontsize=12)\n",
        "\n",
        "\n",
        "#_________________________________________________TODO______________________________________________\n",
        "#Plot Log Price Distribution\n",
        "plt.subplot(1, 2, 2)\n",
        "(df.LOGMEDV).plot.hist(bins=20, figsize=(15,6), edgecolor='white')\n",
        "plt.xlabel('log(price+1)', fontsize=12)\n",
        "plt.title('Log Price Distribution', fontsize=12)\n",
        "\n",
        "\n",
        "plt.show()"
      ],
      "execution_count": null,
      "outputs": [
        {
          "output_type": "display_data",
          "data": {
            "image/png": "[encoded data removed]",
            "text/plain": [
              "<Figure size 1080x432 with 2 Axes>"
            ]
          },
          "metadata": {
            "tags": [],
            "needs_background": "light"
          }
        }
      ]
    },
    {
      "cell_type": "markdown",
      "metadata": {
        "id": "UUMdK2JgLu1M",
        "colab_type": "text"
      },
      "source": [
        "## Visualize and Examine \n",
        "\n",
        "Are there any linear relationships between some of the IV's and the DV?\n",
        "\n",
        "Is it:\n",
        "- Strong? Weak?\n",
        "- Positive? Negative?\n",
        "- Linear? Non-Linear?"
      ]
    },
    {
      "cell_type": "code",
      "metadata": {
        "id": "9KFEjpM5Lu1T",
        "colab_type": "code",
        "colab": {},
        "outputId": "84741209-15fd-4615-fab9-687d08a238ee"
      },
      "source": [
        "df.corr()['LOGMEDV'].sort_values(ascending = False)"
      ],
      "execution_count": null,
      "outputs": [
        {
          "output_type": "execute_result",
          "data": {
            "text/plain": [
              "LOGMEDV    1.000000\n",
              "MEDV       0.958221\n",
              "RM         0.637387\n",
              "B          0.400773\n",
              "ZN         0.365136\n",
              "DIS        0.339744\n",
              "CHAS       0.159435\n",
              "AGE       -0.452150\n",
              "RAD       -0.478488\n",
              "PTRATIO   -0.504052\n",
              "NOX       -0.508900\n",
              "CRIM      -0.520692\n",
              "INDUS     -0.541258\n",
              "TAX       -0.558832\n",
              "LSTAT     -0.804294\n",
              "Name: LOGMEDV, dtype: float64"
            ]
          },
          "metadata": {
            "tags": []
          },
          "execution_count": 97
        }
      ]
    },
    {
      "cell_type": "code",
      "metadata": {
        "scrolled": true,
        "id": "lD2npWcJLu1o",
        "colab_type": "code",
        "colab": {},
        "outputId": "82058c41-ccce-43e6-8a5b-f4ff350a4fef"
      },
      "source": [
        "# visualize the relationship between the features and the response using scatterplots\n",
        "fig, axs = plt.subplots(1, 3, sharey=True)\n",
        "df.plot(kind='scatter', x='LSTAT', y='LOGMEDV', ax=axs[0], figsize=(15, 7))\n",
        "df.plot(kind='scatter', x='RM', y='LOGMEDV', ax=axs[1])\n",
        "df.plot(kind='scatter', x='DIS', y='LOGMEDV', ax=axs[2])"
      ],
      "execution_count": null,
      "outputs": [
        {
          "output_type": "execute_result",
          "data": {
            "text/plain": [
              "<matplotlib.axes._subplots.AxesSubplot at 0x1c1eee9908>"
            ]
          },
          "metadata": {
            "tags": []
          },
          "execution_count": 99
        },
        {
          "output_type": "display_data",
          "data": {
            "image/png": "[encoded data removed]",
            "text/plain": [
              "<Figure size 1080x504 with 3 Axes>"
            ]
          },
          "metadata": {
            "tags": [],
            "needs_background": "light"
          }
        }
      ]
    },
    {
      "cell_type": "markdown",
      "metadata": {
        "id": "Ldw-VTWnLu15",
        "colab_type": "text"
      },
      "source": [
        "# Finding Parameters: B0 and B1\n",
        "***\n",
        "\n",
        "The question is: how do we find values for the **intercept** and **slope**?\n",
        "\n",
        "There are two ways:\n",
        "1. There is an **analytical solution** - Known as the Normal Equation / OLS\n",
        "2. There is also a **numerical approximation** method known as Gradient Descent"
      ]
    },
    {
      "cell_type": "markdown",
      "metadata": {
        "id": "RdMP4si2Lu18",
        "colab_type": "text"
      },
      "source": [
        "## Ordinary Least Squares (OLS) Method"
      ]
    },
    {
      "cell_type": "markdown",
      "metadata": {
        "id": "FPTToDy4Lu1_",
        "colab_type": "text"
      },
      "source": [
        "<img src='http://i64.tinypic.com/2hdr8t3.png'/>"
      ]
    },
    {
      "cell_type": "markdown",
      "metadata": {
        "id": "u_SWFFj1Lu2C",
        "colab_type": "text"
      },
      "source": [
        "## 1. Linear Regression Using - OLS Method "
      ]
    },
    {
      "cell_type": "code",
      "metadata": {
        "scrolled": false,
        "id": "f8Y_0DmvLu2F",
        "colab_type": "code",
        "colab": {}
      },
      "source": [
        "# Create Salary Dataset\n",
        "yr_x = [2,3,5,13,8,16,11,1,9]\n",
        "salary_y = [15, 28,42,64, 50,90,58,8,54]\n",
        "matrix = pd.DataFrame({\"yr\":yr_x, \"salary\":salary_y})\n",
        "matrix['x-x_hat'] = matrix.yr - np.mean(matrix.yr)\n",
        "matrix['y-y_hat'] = matrix.salary - np.mean(matrix.salary)\n",
        "matrix['(x-x_hat)(y-y_hat)'] = matrix['x-x_hat']*matrix['y-y_hat']\n",
        "matrix['(x-x_hat)^2'] = matrix['x-x_hat']*matrix['x-x_hat']"
      ],
      "execution_count": null,
      "outputs": []
    },
    {
      "cell_type": "code",
      "metadata": {
        "id": "F0HpK4M_Lu2V",
        "colab_type": "code",
        "colab": {},
        "outputId": "2c38f8e5-dce8-4400-eae8-e50cc0e2ea12"
      },
      "source": [
        "matrix"
      ],
      "execution_count": null,
      "outputs": [
        {
          "output_type": "execute_result",
          "data": {
            "text/html": [
              "<div>\n",
              "<style scoped>\n",
              "    .dataframe tbody tr th:only-of-type {\n",
              "        vertical-align: middle;\n",
              "    }\n",
              "\n",
              "    .dataframe tbody tr th {\n",
              "        vertical-align: top;\n",
              "    }\n",
              "\n",
              "    .dataframe thead th {\n",
              "        text-align: right;\n",
              "    }\n",
              "</style>\n",
              "<table border=\"1\" class=\"dataframe\">\n",
              "  <thead>\n",
              "    <tr style=\"text-align: right;\">\n",
              "      <th></th>\n",
              "      <th>yr</th>\n",
              "      <th>salary</th>\n",
              "      <th>x-x_hat</th>\n",
              "      <th>y-y_hat</th>\n",
              "      <th>(x-x_hat)(y-y_hat)</th>\n",
              "      <th>(x-x_hat)^2</th>\n",
              "    </tr>\n",
              "  </thead>\n",
              "  <tbody>\n",
              "    <tr>\n",
              "      <th>0</th>\n",
              "      <td>2</td>\n",
              "      <td>15</td>\n",
              "      <td>-5.555556</td>\n",
              "      <td>-30.444444</td>\n",
              "      <td>169.135802</td>\n",
              "      <td>30.864198</td>\n",
              "    </tr>\n",
              "    <tr>\n",
              "      <th>1</th>\n",
              "      <td>3</td>\n",
              "      <td>28</td>\n",
              "      <td>-4.555556</td>\n",
              "      <td>-17.444444</td>\n",
              "      <td>79.469136</td>\n",
              "      <td>20.753086</td>\n",
              "    </tr>\n",
              "    <tr>\n",
              "      <th>2</th>\n",
              "      <td>5</td>\n",
              "      <td>42</td>\n",
              "      <td>-2.555556</td>\n",
              "      <td>-3.444444</td>\n",
              "      <td>8.802469</td>\n",
              "      <td>6.530864</td>\n",
              "    </tr>\n",
              "    <tr>\n",
              "      <th>3</th>\n",
              "      <td>13</td>\n",
              "      <td>64</td>\n",
              "      <td>5.444444</td>\n",
              "      <td>18.555556</td>\n",
              "      <td>101.024691</td>\n",
              "      <td>29.641975</td>\n",
              "    </tr>\n",
              "    <tr>\n",
              "      <th>4</th>\n",
              "      <td>8</td>\n",
              "      <td>50</td>\n",
              "      <td>0.444444</td>\n",
              "      <td>4.555556</td>\n",
              "      <td>2.024691</td>\n",
              "      <td>0.197531</td>\n",
              "    </tr>\n",
              "    <tr>\n",
              "      <th>5</th>\n",
              "      <td>16</td>\n",
              "      <td>90</td>\n",
              "      <td>8.444444</td>\n",
              "      <td>44.555556</td>\n",
              "      <td>376.246914</td>\n",
              "      <td>71.308642</td>\n",
              "    </tr>\n",
              "    <tr>\n",
              "      <th>6</th>\n",
              "      <td>11</td>\n",
              "      <td>58</td>\n",
              "      <td>3.444444</td>\n",
              "      <td>12.555556</td>\n",
              "      <td>43.246914</td>\n",
              "      <td>11.864198</td>\n",
              "    </tr>\n",
              "    <tr>\n",
              "      <th>7</th>\n",
              "      <td>1</td>\n",
              "      <td>8</td>\n",
              "      <td>-6.555556</td>\n",
              "      <td>-37.444444</td>\n",
              "      <td>245.469136</td>\n",
              "      <td>42.975309</td>\n",
              "    </tr>\n",
              "    <tr>\n",
              "      <th>8</th>\n",
              "      <td>9</td>\n",
              "      <td>54</td>\n",
              "      <td>1.444444</td>\n",
              "      <td>8.555556</td>\n",
              "      <td>12.358025</td>\n",
              "      <td>2.086420</td>\n",
              "    </tr>\n",
              "  </tbody>\n",
              "</table>\n",
              "</div>"
            ],
            "text/plain": [
              "   yr  salary   x-x_hat    y-y_hat  (x-x_hat)(y-y_hat)  (x-x_hat)^2\n",
              "0   2      15 -5.555556 -30.444444          169.135802    30.864198\n",
              "1   3      28 -4.555556 -17.444444           79.469136    20.753086\n",
              "2   5      42 -2.555556  -3.444444            8.802469     6.530864\n",
              "3  13      64  5.444444  18.555556          101.024691    29.641975\n",
              "4   8      50  0.444444   4.555556            2.024691     0.197531\n",
              "5  16      90  8.444444  44.555556          376.246914    71.308642\n",
              "6  11      58  3.444444  12.555556           43.246914    11.864198\n",
              "7   1       8 -6.555556 -37.444444          245.469136    42.975309\n",
              "8   9      54  1.444444   8.555556           12.358025     2.086420"
            ]
          },
          "metadata": {
            "tags": []
          },
          "execution_count": 9
        }
      ]
    },
    {
      "cell_type": "code",
      "metadata": {
        "id": "nkPEpDyXLu2p",
        "colab_type": "code",
        "colab": {},
        "outputId": "c9fa21ed-b8bd-44f1-bf80-054b0a11ae56"
      },
      "source": [
        "# Plot Salary vs Years\n",
        "fig, ax = plt.subplots()\n",
        "ax.scatter(matrix.yr, matrix.salary, c=\"b\")\n",
        "plt.title(\"Salary Dataset\", fontsize=16)\n",
        "plt.xlabel(\"Years\", fontsize=14)\n",
        "plt.ylabel(\"Salary 10,000s\", fontsize=14)\n",
        "plt.show()"
      ],
      "execution_count": null,
      "outputs": [
        {
          "output_type": "display_data",
          "data": {
            "image/png": "[encoded data removed]",
            "text/plain": [
              "<Figure size 432x288 with 1 Axes>"
            ]
          },
          "metadata": {
            "tags": [],
            "needs_background": "light"
          }
        }
      ]
    },
    {
      "cell_type": "code",
      "metadata": {
        "scrolled": true,
        "id": "xed8Y7MILu28",
        "colab_type": "code",
        "colab": {},
        "outputId": "ce7c56e3-a2bc-4c25-a8ee-1c6c93fae214"
      },
      "source": [
        "# Examine dataset\n",
        "matrix.head(3)"
      ],
      "execution_count": null,
      "outputs": [
        {
          "output_type": "execute_result",
          "data": {
            "text/html": [
              "<div>\n",
              "<style scoped>\n",
              "    .dataframe tbody tr th:only-of-type {\n",
              "        vertical-align: middle;\n",
              "    }\n",
              "\n",
              "    .dataframe tbody tr th {\n",
              "        vertical-align: top;\n",
              "    }\n",
              "\n",
              "    .dataframe thead th {\n",
              "        text-align: right;\n",
              "    }\n",
              "</style>\n",
              "<table border=\"1\" class=\"dataframe\">\n",
              "  <thead>\n",
              "    <tr style=\"text-align: right;\">\n",
              "      <th></th>\n",
              "      <th>yr</th>\n",
              "      <th>salary</th>\n",
              "      <th>x-x_hat</th>\n",
              "      <th>y-y_hat</th>\n",
              "      <th>(x-x_hat)(y-y_hat)</th>\n",
              "      <th>(x-x_hat)^2</th>\n",
              "    </tr>\n",
              "  </thead>\n",
              "  <tbody>\n",
              "    <tr>\n",
              "      <th>0</th>\n",
              "      <td>2</td>\n",
              "      <td>15</td>\n",
              "      <td>-5.555556</td>\n",
              "      <td>-30.444444</td>\n",
              "      <td>169.135802</td>\n",
              "      <td>30.864198</td>\n",
              "    </tr>\n",
              "    <tr>\n",
              "      <th>1</th>\n",
              "      <td>3</td>\n",
              "      <td>28</td>\n",
              "      <td>-4.555556</td>\n",
              "      <td>-17.444444</td>\n",
              "      <td>79.469136</td>\n",
              "      <td>20.753086</td>\n",
              "    </tr>\n",
              "    <tr>\n",
              "      <th>2</th>\n",
              "      <td>5</td>\n",
              "      <td>42</td>\n",
              "      <td>-2.555556</td>\n",
              "      <td>-3.444444</td>\n",
              "      <td>8.802469</td>\n",
              "      <td>6.530864</td>\n",
              "    </tr>\n",
              "  </tbody>\n",
              "</table>\n",
              "</div>"
            ],
            "text/plain": [
              "   yr  salary   x-x_hat    y-y_hat  (x-x_hat)(y-y_hat)  (x-x_hat)^2\n",
              "0   2      15 -5.555556 -30.444444          169.135802    30.864198\n",
              "1   3      28 -4.555556 -17.444444           79.469136    20.753086\n",
              "2   5      42 -2.555556  -3.444444            8.802469     6.530864"
            ]
          },
          "metadata": {
            "tags": []
          },
          "execution_count": 11
        }
      ]
    },
    {
      "cell_type": "markdown",
      "metadata": {
        "id": "Datp7EPtLu3J",
        "colab_type": "text"
      },
      "source": [
        "#### Find the Slope (m)"
      ]
    },
    {
      "cell_type": "code",
      "metadata": {
        "scrolled": true,
        "id": "AG0QQBY4Lu3M",
        "colab_type": "code",
        "colab": {},
        "outputId": "cf566511-b4db-48d0-905a-9a08e9cb64b7"
      },
      "source": [
        "# Compute the slope m\n",
        "m = np.sum(matrix['(x-x_hat)(y-y_hat)']) / np.sum(matrix['(x-x_hat)^2'])\n",
        "print(\"The Slope m is: \" + str(m))"
      ],
      "execution_count": null,
      "outputs": [
        {
          "output_type": "stream",
          "text": [
            "The Slope m is: 4.799588900308325\n"
          ],
          "name": "stdout"
        }
      ]
    },
    {
      "cell_type": "markdown",
      "metadata": {
        "id": "_gX-7m_BLu3d",
        "colab_type": "text"
      },
      "source": [
        "#### Find the Intercept (b)"
      ]
    },
    {
      "cell_type": "code",
      "metadata": {
        "id": "_uQ4sSl9Lu3i",
        "colab_type": "code",
        "colab": {},
        "outputId": "b9921e81-f5d0-4587-bfd7-160be765a459"
      },
      "source": [
        "b = np.mean(matrix.salary) - (m*np.mean(matrix.yr))\n",
        "print(\"The Intercept b is: \" + str(b))"
      ],
      "execution_count": null,
      "outputs": [
        {
          "output_type": "stream",
          "text": [
            "The Intercept b is: 9.180883864337105\n"
          ],
          "name": "stdout"
        }
      ]
    },
    {
      "cell_type": "markdown",
      "metadata": {
        "id": "qE57Gd2ALu3y",
        "colab_type": "text"
      },
      "source": [
        "#### Equation: y = 4.8X + 9.18"
      ]
    },
    {
      "cell_type": "markdown",
      "metadata": {
        "id": "YP8DL-MWLu30",
        "colab_type": "text"
      },
      "source": [
        "#### Plot the best fit line"
      ]
    },
    {
      "cell_type": "code",
      "metadata": {
        "id": "E4yDBFZKLu33",
        "colab_type": "code",
        "colab": {},
        "outputId": "1ca0313b-4809-4ef8-9660-7e4382db9c6e"
      },
      "source": [
        "import matplotlib.pyplot as plt\n",
        "import numpy as np\n",
        "\n",
        "# Some dummy data\n",
        "x = matrix.yr\n",
        "y = matrix.salary\n",
        "\n",
        "# Find the slope and intercept of the best fit line\n",
        "slope, intercept = np.polyfit(x, y, 1)\n",
        "\n",
        "# Create a list of values in the best fit line\n",
        "ols_predictions = [m * i + b for i in x]\n",
        "\n",
        "# Plot the best fit line over the actual values\n",
        "plt.scatter(x,y)\n",
        "plt.plot(x, ols_predictions, 'r')\n",
        "plt.title(\"Salary Dataset\", fontsize=16)\n",
        "plt.xlabel(\"Years\", fontsize=14)\n",
        "plt.ylabel(\"Salary 10,000s\", fontsize=14)\n",
        "plt.show()"
      ],
      "execution_count": null,
      "outputs": [
        {
          "output_type": "display_data",
          "data": {
            "image/png": "[encoded data removed]",
            "text/plain": [
              "<Figure size 432x288 with 1 Axes>"
            ]
          },
          "metadata": {
            "tags": [],
            "needs_background": "light"
          }
        }
      ]
    },
    {
      "cell_type": "markdown",
      "metadata": {
        "id": "D12ptsXcLu4L",
        "colab_type": "text"
      },
      "source": [
        "## Normal Equation Function\n",
        "<img src='https://cdn-images-1.medium.com/max/1600/1*BIWCTn40qA8Qkgm7yEtgKA.png'/>"
      ]
    },
    {
      "cell_type": "markdown",
      "metadata": {
        "id": "JL_DvKlqLu4P",
        "colab_type": "text"
      },
      "source": [
        "## 2. Linear Regression Using - Normal Equation Method "
      ]
    },
    {
      "cell_type": "code",
      "metadata": {
        "id": "59-X5Ch1Lu4S",
        "colab_type": "code",
        "colab": {}
      },
      "source": [
        "\n",
        "# Create Normal Equation Function\n",
        "def NormalEquation(theta,X,y):\n",
        "    theta=np.linalg.inv(X.T@X)@X.T@y\n",
        "    return theta"
      ],
      "execution_count": null,
      "outputs": []
    },
    {
      "cell_type": "code",
      "metadata": {
        "id": "-olxwSszLu4f",
        "colab_type": "code",
        "colab": {}
      },
      "source": [
        "X = np.array([np.ones(len(matrix.yr)), matrix.yr]).T\n",
        "Y = (matrix.salary[:, np.newaxis])"
      ],
      "execution_count": null,
      "outputs": []
    },
    {
      "cell_type": "code",
      "metadata": {
        "id": "B2NIav8DLu4s",
        "colab_type": "code",
        "colab": {},
        "outputId": "01b51e15-51a9-48c0-a311-e788dec41476"
      },
      "source": [
        "# Compute B0 and B1\n",
        "NormalEquation(0,X,Y)"
      ],
      "execution_count": null,
      "outputs": [
        {
          "output_type": "execute_result",
          "data": {
            "text/plain": [
              "array([[9.18088386],\n",
              "       [4.7995889 ]])"
            ]
          },
          "metadata": {
            "tags": []
          },
          "execution_count": 20
        }
      ]
    },
    {
      "cell_type": "markdown",
      "metadata": {
        "id": "13VC9lVMLu44",
        "colab_type": "text"
      },
      "source": [
        "# Gradient Descent\n",
        "***"
      ]
    },
    {
      "cell_type": "markdown",
      "metadata": {
        "id": "qji4rfdRLu47",
        "colab_type": "text"
      },
      "source": [
        "## 3. Linear Regression Using - Gradient Descent"
      ]
    },
    {
      "cell_type": "markdown",
      "metadata": {
        "id": "EZmGl3H_Lu49",
        "colab_type": "text"
      },
      "source": [
        "<img src='https://i.stack.imgur.com/O752N.png'>"
      ]
    },
    {
      "cell_type": "markdown",
      "metadata": {
        "id": "18aDxze_Lu5A",
        "colab_type": "text"
      },
      "source": [
        "\n",
        "### Hypothesis Function\n",
        "***\n",
        "Hθ(x)=θTx\n",
        "- x: feature matrix\n",
        "- θ: model parameters\n",
        "\n",
        "We have our X Vector already, now let's create our θ parameters:"
      ]
    },
    {
      "cell_type": "code",
      "metadata": {
        "id": "v4FHEWE6Lu5C",
        "colab_type": "code",
        "colab": {},
        "outputId": "a269a5fa-2aec-421a-ca57-6ac301dd03d6"
      },
      "source": [
        "# Initial random Theta Values\n",
        "theta = np.zeros(2)\n",
        "theta"
      ],
      "execution_count": null,
      "outputs": [
        {
          "output_type": "execute_result",
          "data": {
            "text/plain": [
              "array([0., 0.])"
            ]
          },
          "metadata": {
            "tags": []
          },
          "execution_count": 21
        }
      ]
    },
    {
      "cell_type": "code",
      "metadata": {
        "scrolled": false,
        "id": "kgxyj9hKLu5T",
        "colab_type": "code",
        "colab": {},
        "outputId": "f7405321-fb24-47fc-f5bf-bd99cc5de58f"
      },
      "source": [
        "# Create X feature matrix (First Column = Intercept values)\n",
        "X = np.ones(shape=(len(matrix.yr), 2))\n",
        "X[:, 1] = x\n",
        "X"
      ],
      "execution_count": null,
      "outputs": [
        {
          "output_type": "execute_result",
          "data": {
            "text/plain": [
              "array([[ 1.,  2.],\n",
              "       [ 1.,  3.],\n",
              "       [ 1.,  5.],\n",
              "       [ 1., 13.],\n",
              "       [ 1.,  8.],\n",
              "       [ 1., 16.],\n",
              "       [ 1., 11.],\n",
              "       [ 1.,  1.],\n",
              "       [ 1.,  9.]])"
            ]
          },
          "metadata": {
            "tags": []
          },
          "execution_count": 22
        }
      ]
    },
    {
      "cell_type": "code",
      "metadata": {
        "id": "t46uTrKsLu5j",
        "colab_type": "code",
        "colab": {},
        "outputId": "c01d5439-a86b-43af-c114-10c548a3af23"
      },
      "source": [
        "predictions = X @ theta\n",
        "predictions"
      ],
      "execution_count": null,
      "outputs": [
        {
          "output_type": "execute_result",
          "data": {
            "text/plain": [
              "array([0., 0., 0., 0., 0., 0., 0., 0., 0.])"
            ]
          },
          "metadata": {
            "tags": []
          },
          "execution_count": 23
        }
      ]
    },
    {
      "cell_type": "markdown",
      "metadata": {
        "id": "ACLEczesLu6B",
        "colab_type": "text"
      },
      "source": [
        "<img src='http://i67.tinypic.com/29dhbg3.png'>"
      ]
    },
    {
      "cell_type": "markdown",
      "metadata": {
        "id": "s6CgeXteLu6F",
        "colab_type": "text"
      },
      "source": [
        "### Cost Function"
      ]
    },
    {
      "cell_type": "code",
      "metadata": {
        "id": "1evAH_VQLu6J",
        "colab_type": "code",
        "colab": {}
      },
      "source": [
        "def cost(theta, X, y):\n",
        "    predictions = X @ theta\n",
        "    squared_errors = np.square(predictions - y)\n",
        "    return np.sum(squared_errors) / (2 * len(y))"
      ],
      "execution_count": null,
      "outputs": []
    },
    {
      "cell_type": "code",
      "metadata": {
        "id": "JJwBcHScLu6b",
        "colab_type": "code",
        "colab": {},
        "outputId": "047ab8d8-f031-4b4f-9a43-c556ad67b9df"
      },
      "source": [
        "print('The initial cost is:', cost(theta, X, Y))"
      ],
      "execution_count": null,
      "outputs": [
        {
          "output_type": "stream",
          "text": [
            "The initial cost is: 11906.5\n"
          ],
          "name": "stdout"
        }
      ]
    },
    {
      "cell_type": "markdown",
      "metadata": {
        "id": "T2Hzrm3dLu6s",
        "colab_type": "text"
      },
      "source": [
        "### Gradient Descent\n"
      ]
    },
    {
      "cell_type": "markdown",
      "metadata": {
        "id": "i94mzo2vLu6w",
        "colab_type": "text"
      },
      "source": [
        "Perform gradient descent to learn theta\n",
        "\n",
        "<img src='http://pingax.com/wp-content/uploads/2013/11/Convergence.png'>"
      ]
    },
    {
      "cell_type": "code",
      "metadata": {
        "id": "DTxpowDvLu6z",
        "colab_type": "code",
        "colab": {}
      },
      "source": [
        "# Define gradient descent function\n",
        "def gradientDescent(X, y, theta, alpha, num_iters):\n",
        "    m = y.size  # number of training examples\n",
        "    for i in range(num_iters):\n",
        "        y_hat = np.dot(X, theta)\n",
        "        theta = theta - alpha * (1.0/m) * np.dot(X.T, y_hat-y)\n",
        "    return theta"
      ],
      "execution_count": null,
      "outputs": []
    },
    {
      "cell_type": "markdown",
      "metadata": {
        "id": "jM8IJWl-Lu7E",
        "colab_type": "text"
      },
      "source": [
        "### Find Theta Parameters (Slope and Intercept)"
      ]
    },
    {
      "cell_type": "code",
      "metadata": {
        "id": "XezxV5Q1Lu7I",
        "colab_type": "code",
        "colab": {},
        "outputId": "b21c2e8c-3400-48bd-f069-fbf8890b3ef6"
      },
      "source": [
        "# Found the parameters from theta\n",
        "theta = gradientDescent(X,Y,0,0.008,3000)\n",
        "theta"
      ],
      "execution_count": null,
      "outputs": [
        {
          "output_type": "execute_result",
          "data": {
            "text/plain": [
              "array([[9.17341701, 9.17341701],\n",
              "       [4.80028697, 4.80028697]])"
            ]
          },
          "metadata": {
            "tags": []
          },
          "execution_count": 27
        }
      ]
    },
    {
      "cell_type": "markdown",
      "metadata": {
        "id": "Brb_TLLmLu7Z",
        "colab_type": "text"
      },
      "source": [
        "### Make predictions \n",
        "We now have our Theta Parameters and X Feature:\n",
        "\n",
        "Hθ(x)=θTx\n",
        "- x: feature matrix\n",
        "- θ: model parameters"
      ]
    },
    {
      "cell_type": "code",
      "metadata": {
        "id": "NWOm0nkSLu7c",
        "colab_type": "code",
        "colab": {},
        "outputId": "045730a9-5140-464a-a3ae-0dd8ecaa59b1"
      },
      "source": [
        "gd_predictions = X @ theta   \n",
        "gd_predictions"
      ],
      "execution_count": null,
      "outputs": [
        {
          "output_type": "execute_result",
          "data": {
            "text/plain": [
              "array([[18.77399095, 18.77399095],\n",
              "       [23.57427792, 23.57427792],\n",
              "       [33.17485186, 33.17485186],\n",
              "       [71.57714762, 71.57714762],\n",
              "       [47.57571277, 47.57571277],\n",
              "       [85.97800853, 85.97800853],\n",
              "       [61.97657368, 61.97657368],\n",
              "       [13.97370398, 13.97370398],\n",
              "       [52.37599974, 52.37599974]])"
            ]
          },
          "metadata": {
            "tags": []
          },
          "execution_count": 28
        }
      ]
    },
    {
      "cell_type": "code",
      "metadata": {
        "id": "RyXYC2LtLu7x",
        "colab_type": "code",
        "colab": {},
        "outputId": "8cf4159d-8ec9-4cca-ef3a-b88c91807ca8"
      },
      "source": [
        "# Plot the regression line\n",
        "plt.scatter(x,y)\n",
        "plt.plot(x, gd_predictions, 'g')\n",
        "plt.title(\"Salary Dataset\", fontsize=16)\n",
        "plt.xlabel(\"Years\", fontsize=14)\n",
        "plt.ylabel(\"Salary 10,000s\", fontsize=14)\n",
        "plt.show()"
      ],
      "execution_count": null,
      "outputs": [
        {
          "output_type": "display_data",
          "data": {
            "image/png": "[encoded data removed]",
            "text/plain": [
              "<Figure size 432x288 with 1 Axes>"
            ]
          },
          "metadata": {
            "tags": [],
            "needs_background": "light"
          }
        }
      ]
    },
    {
      "cell_type": "code",
      "metadata": {
        "id": "3x1B5u9wLu8C",
        "colab_type": "code",
        "colab": {}
      },
      "source": [
        "# Define gradient descent function\n",
        "def gradientDescent(X, y, theta, alpha, num_iters):\n",
        "    cost_history = np.zeros(num_iters)  # create a vector to store the cost history\n",
        "    m = y.size  # number of training examples\n",
        "    for i in range(num_iters):\n",
        "        y_hat = np.dot(X, theta)\n",
        "        theta = theta - alpha * (1.0/m) * np.dot(X.T, y_hat-y)\n",
        "        cost_history[i] = cost(theta, X, y) # compute and record the cost\n",
        "    return theta, cost_history   "
      ],
      "execution_count": null,
      "outputs": []
    },
    {
      "cell_type": "markdown",
      "metadata": {
        "id": "NKVKPbFKLu8S",
        "colab_type": "text"
      },
      "source": [
        "### Gradient Descent with Different Learning Rates\n",
        "\n",
        "Notice how the **smaller the learning rate** takes **more iterations** to minimize the cost function"
      ]
    },
    {
      "cell_type": "code",
      "metadata": {
        "scrolled": true,
        "id": "InwfU8vzLu8W",
        "colab_type": "code",
        "colab": {},
        "outputId": "30761464-4850-44db-8a44-fe153903a244"
      },
      "source": [
        "num_iters = 3000\n",
        "learning_rates = [0.000008, 0.000005, 0.00001]\n",
        "for lr in learning_rates:\n",
        "    _, cost_history = gradientDescent(X, Y, 0, lr, num_iters)\n",
        "    plt.plot(cost_history, linewidth=2)\n",
        "plt.title(\"Gradient descent with different learning rates\", fontsize=16)\n",
        "plt.xlabel(\"number of iterations\", fontsize=14)\n",
        "plt.ylabel(\"cost\", fontsize=14)\n",
        "plt.legend(list(map(str, learning_rates)))"
      ],
      "execution_count": null,
      "outputs": [
        {
          "output_type": "execute_result",
          "data": {
            "text/plain": [
              "<matplotlib.legend.Legend at 0x1a1b1019e8>"
            ]
          },
          "metadata": {
            "tags": []
          },
          "execution_count": 31
        },
        {
          "output_type": "display_data",
          "data": {
            "image/png": "[encoded data removed]",
            "text/plain": [
              "<Figure size 432x288 with 1 Axes>"
            ]
          },
          "metadata": {
            "tags": [],
            "needs_background": "light"
          }
        }
      ]
    },
    {
      "cell_type": "markdown",
      "metadata": {
        "id": "jm8z-YtcLu8j",
        "colab_type": "text"
      },
      "source": [
        "### Large Learning Rate\n",
        "If you use too **large of a learning rate** then your cost function may **never converge** to a minimum"
      ]
    },
    {
      "cell_type": "code",
      "metadata": {
        "id": "TqiYDSzELu8l",
        "colab_type": "code",
        "colab": {},
        "outputId": "0f019702-a0dc-4d62-a226-d74bff29b751"
      },
      "source": [
        "learning_rate = 0.025\n",
        "num_iters = 500\n",
        "_, cost_history = gradientDescent(X, Y, 0,learning_rate, num_iters)\n",
        "plt.plot(cost_history, linewidth=2)\n",
        "plt.title(\"Gradient descent with learning rate = \" + str(learning_rate), fontsize=16)\n",
        "plt.xlabel(\"number of iterations\", fontsize=14)\n",
        "plt.ylabel(\"cost\", fontsize=14)\n",
        "plt.grid()\n",
        "plt.show()"
      ],
      "execution_count": null,
      "outputs": [
        {
          "output_type": "display_data",
          "data": {
            "image/png": "[encoded data removed]",
            "text/plain": [
              "<Figure size 432x288 with 1 Axes>"
            ]
          },
          "metadata": {
            "tags": [],
            "needs_background": "light"
          }
        }
      ]
    },
    {
      "cell_type": "markdown",
      "metadata": {
        "id": "eieUoO39Lu80",
        "colab_type": "text"
      },
      "source": [
        "### 4. Linear Regression Using - Sklearn"
      ]
    },
    {
      "cell_type": "code",
      "metadata": {
        "id": "g6SHvyIHLu83",
        "colab_type": "code",
        "colab": {},
        "outputId": "fa7897ff-a9cd-4fef-df78-edb1596ddc90"
      },
      "source": [
        "# Import Linear Regression Model\n",
        "from sklearn.linear_model import LinearRegression\n",
        "\n",
        "lr = LinearRegression()\n",
        "lr.fit(X, Y)"
      ],
      "execution_count": null,
      "outputs": [
        {
          "output_type": "execute_result",
          "data": {
            "text/plain": [
              "LinearRegression(copy_X=True, fit_intercept=True, n_jobs=None,\n",
              "         normalize=False)"
            ]
          },
          "metadata": {
            "tags": []
          },
          "execution_count": 33
        }
      ]
    },
    {
      "cell_type": "code",
      "metadata": {
        "id": "7pjq1M5rLu9C",
        "colab_type": "code",
        "colab": {},
        "outputId": "0029c9bf-6c60-4d27-e76c-5158ff2f9bc7"
      },
      "source": [
        "# Find the Intercept Parameter (B0)\n",
        "lr.intercept_"
      ],
      "execution_count": null,
      "outputs": [
        {
          "output_type": "execute_result",
          "data": {
            "text/plain": [
              "array([9.18088386])"
            ]
          },
          "metadata": {
            "tags": []
          },
          "execution_count": 34
        }
      ]
    },
    {
      "cell_type": "code",
      "metadata": {
        "id": "LlxxcAdfLu9W",
        "colab_type": "code",
        "colab": {},
        "outputId": "19ccac43-a0c6-484c-ef69-476ad0e45305"
      },
      "source": [
        "# Find the Coefficient Parameter (B1)\n",
        "lr.coef_"
      ],
      "execution_count": null,
      "outputs": [
        {
          "output_type": "execute_result",
          "data": {
            "text/plain": [
              "array([[0.       , 4.7995889]])"
            ]
          },
          "metadata": {
            "tags": []
          },
          "execution_count": 35
        }
      ]
    },
    {
      "cell_type": "markdown",
      "metadata": {
        "id": "BRM-acCjLu9j",
        "colab_type": "text"
      },
      "source": [
        "# Interpreting OLS Regression Results\n",
        "***"
      ]
    },
    {
      "cell_type": "markdown",
      "metadata": {
        "id": "bv52ESFRLu9m",
        "colab_type": "text"
      },
      "source": [
        "**Benefits of Statsmodel:** Allows you to get a lot more statistical parameters than SkLearn\n",
        "### Interpretation\n",
        "\n",
        "- **Intercept** = 36.4911 This is what the value of our y (dependent variable) would be if the gradient had a value of 0.\n",
        "- **Coefficient (RM)** = For every unit increase in x, y increases by 3800 dollars.\n",
        "- **R-Squared (0.741)** =  74.1% of the variation in our y variable is “explained” by the x variable in this model.\n",
        "- **p-value** The p-value is below 0.05%, denoting statistical significance of the regression at the 5% level.\n",
        "- **The Null-Hypothesis**:  \n",
        "    - H(0) says that there is no association between the DV and the IV. \n",
        "    - When the p-value is < 0.05 then we can reject the null-hypothesis and say that there is an association between the DV and the IV.\n",
        "    - When p-value is < 0.05 then there is a relationship between DV and IV\n",
        "\n",
        "### R Squared\n",
        "\n",
        "R Squared = Ratio of (Prediction Values / Observed Values)\n",
        "<img src='http://i64.tinypic.com/8x1p3a.png'>"
      ]
    },
    {
      "cell_type": "markdown",
      "metadata": {
        "id": "_jWMlAkbLu9p",
        "colab_type": "text"
      },
      "source": [
        "<div class=\"alert alert-block alert-success\">\n",
        "<b>TO DO:</b>  \n",
        "<p>1. Use a **Log Transformed** MEDV for Y and compare the results. Does R Squared improve?</p>\n",
        "<p>2. Remove the **high p-valued** features: INDUS & AGE</p>\n",
        "\n",
        "</div>\n"
      ]
    },
    {
      "cell_type": "code",
      "metadata": {
        "scrolled": true,
        "id": "lW8Iw8GgLu9s",
        "colab_type": "code",
        "colab": {},
        "outputId": "fb4024d8-5b0f-4fb7-9650-1ec4d585a107"
      },
      "source": [
        "import statsmodels.api as sm\n",
        "\n",
        "# Define X Values\n",
        "X = sm.add_constant(df.drop(['MEDV','LOGMEDV'],axis=1))\n",
        "\n",
        "# Define Y \n",
        "Y = df.MEDV\n",
        "\n",
        "# Apply OLS to our X and Y\n",
        "lm = sm.OLS(Y, X).fit()\n",
        "\n",
        "# Print Summary of Outputs\n",
        "lm.summary()"
      ],
      "execution_count": null,
      "outputs": [
        {
          "output_type": "execute_result",
          "data": {
            "text/html": [
              "<table class=\"simpletable\">\n",
              "<caption>OLS Regression Results</caption>\n",
              "<tr>\n",
              "  <th>Dep. Variable:</th>          <td>MEDV</td>       <th>  R-squared:         </th> <td>   0.741</td> \n",
              "</tr>\n",
              "<tr>\n",
              "  <th>Model:</th>                   <td>OLS</td>       <th>  Adj. R-squared:    </th> <td>   0.734</td> \n",
              "</tr>\n",
              "<tr>\n",
              "  <th>Method:</th>             <td>Least Squares</td>  <th>  F-statistic:       </th> <td>   108.1</td> \n",
              "</tr>\n",
              "<tr>\n",
              "  <th>Date:</th>             <td>Sat, 04 Jul 2020</td> <th>  Prob (F-statistic):</th> <td>6.72e-135</td>\n",
              "</tr>\n",
              "<tr>\n",
              "  <th>Time:</th>                 <td>05:10:31</td>     <th>  Log-Likelihood:    </th> <td> -1498.8</td> \n",
              "</tr>\n",
              "<tr>\n",
              "  <th>No. Observations:</th>      <td>   506</td>      <th>  AIC:               </th> <td>   3026.</td> \n",
              "</tr>\n",
              "<tr>\n",
              "  <th>Df Residuals:</th>          <td>   492</td>      <th>  BIC:               </th> <td>   3085.</td> \n",
              "</tr>\n",
              "<tr>\n",
              "  <th>Df Model:</th>              <td>    13</td>      <th>                     </th>     <td> </td>    \n",
              "</tr>\n",
              "<tr>\n",
              "  <th>Covariance Type:</th>      <td>nonrobust</td>    <th>                     </th>     <td> </td>    \n",
              "</tr>\n",
              "</table>\n",
              "<table class=\"simpletable\">\n",
              "<tr>\n",
              "     <td></td>        <th>coef</th>     <th>std err</th>      <th>t</th>      <th>P>|t|</th>  <th>[0.025</th>    <th>0.975]</th>  \n",
              "</tr>\n",
              "<tr>\n",
              "  <th>const</th>   <td>   36.4595</td> <td>    5.103</td> <td>    7.144</td> <td> 0.000</td> <td>   26.432</td> <td>   46.487</td>\n",
              "</tr>\n",
              "<tr>\n",
              "  <th>CRIM</th>    <td>   -0.1080</td> <td>    0.033</td> <td>   -3.287</td> <td> 0.001</td> <td>   -0.173</td> <td>   -0.043</td>\n",
              "</tr>\n",
              "<tr>\n",
              "  <th>ZN</th>      <td>    0.0464</td> <td>    0.014</td> <td>    3.382</td> <td> 0.001</td> <td>    0.019</td> <td>    0.073</td>\n",
              "</tr>\n",
              "<tr>\n",
              "  <th>INDUS</th>   <td>    0.0206</td> <td>    0.061</td> <td>    0.334</td> <td> 0.738</td> <td>   -0.100</td> <td>    0.141</td>\n",
              "</tr>\n",
              "<tr>\n",
              "  <th>CHAS</th>    <td>    2.6867</td> <td>    0.862</td> <td>    3.118</td> <td> 0.002</td> <td>    0.994</td> <td>    4.380</td>\n",
              "</tr>\n",
              "<tr>\n",
              "  <th>NOX</th>     <td>  -17.7666</td> <td>    3.820</td> <td>   -4.651</td> <td> 0.000</td> <td>  -25.272</td> <td>  -10.262</td>\n",
              "</tr>\n",
              "<tr>\n",
              "  <th>RM</th>      <td>    3.8099</td> <td>    0.418</td> <td>    9.116</td> <td> 0.000</td> <td>    2.989</td> <td>    4.631</td>\n",
              "</tr>\n",
              "<tr>\n",
              "  <th>AGE</th>     <td>    0.0007</td> <td>    0.013</td> <td>    0.052</td> <td> 0.958</td> <td>   -0.025</td> <td>    0.027</td>\n",
              "</tr>\n",
              "<tr>\n",
              "  <th>DIS</th>     <td>   -1.4756</td> <td>    0.199</td> <td>   -7.398</td> <td> 0.000</td> <td>   -1.867</td> <td>   -1.084</td>\n",
              "</tr>\n",
              "<tr>\n",
              "  <th>RAD</th>     <td>    0.3060</td> <td>    0.066</td> <td>    4.613</td> <td> 0.000</td> <td>    0.176</td> <td>    0.436</td>\n",
              "</tr>\n",
              "<tr>\n",
              "  <th>TAX</th>     <td>   -0.0123</td> <td>    0.004</td> <td>   -3.280</td> <td> 0.001</td> <td>   -0.020</td> <td>   -0.005</td>\n",
              "</tr>\n",
              "<tr>\n",
              "  <th>PTRATIO</th> <td>   -0.9527</td> <td>    0.131</td> <td>   -7.283</td> <td> 0.000</td> <td>   -1.210</td> <td>   -0.696</td>\n",
              "</tr>\n",
              "<tr>\n",
              "  <th>B</th>       <td>    0.0093</td> <td>    0.003</td> <td>    3.467</td> <td> 0.001</td> <td>    0.004</td> <td>    0.015</td>\n",
              "</tr>\n",
              "<tr>\n",
              "  <th>LSTAT</th>   <td>   -0.5248</td> <td>    0.051</td> <td>  -10.347</td> <td> 0.000</td> <td>   -0.624</td> <td>   -0.425</td>\n",
              "</tr>\n",
              "</table>\n",
              "<table class=\"simpletable\">\n",
              "<tr>\n",
              "  <th>Omnibus:</th>       <td>178.041</td> <th>  Durbin-Watson:     </th> <td>   1.078</td> \n",
              "</tr>\n",
              "<tr>\n",
              "  <th>Prob(Omnibus):</th> <td> 0.000</td>  <th>  Jarque-Bera (JB):  </th> <td> 783.126</td> \n",
              "</tr>\n",
              "<tr>\n",
              "  <th>Skew:</th>          <td> 1.521</td>  <th>  Prob(JB):          </th> <td>8.84e-171</td>\n",
              "</tr>\n",
              "<tr>\n",
              "  <th>Kurtosis:</th>      <td> 8.281</td>  <th>  Cond. No.          </th> <td>1.51e+04</td> \n",
              "</tr>\n",
              "</table><br/><br/>Warnings:<br/>[1] Standard Errors assume that the covariance matrix of the errors is correctly specified.<br/>[2] The condition number is large, 1.51e+04. This might indicate that there are<br/>strong multicollinearity or other numerical problems."
            ],
            "text/plain": [
              "<class 'statsmodels.iolib.summary.Summary'>\n",
              "\"\"\"\n",
              "                            OLS Regression Results                            \n",
              "==============================================================================\n",
              "Dep. Variable:                   MEDV   R-squared:                       0.741\n",
              "Model:                            OLS   Adj. R-squared:                  0.734\n",
              "Method:                 Least Squares   F-statistic:                     108.1\n",
              "Date:                Sat, 04 Jul 2020   Prob (F-statistic):          6.72e-135\n",
              "Time:                        05:10:31   Log-Likelihood:                -1498.8\n",
              "No. Observations:                 506   AIC:                             3026.\n",
              "Df Residuals:                     492   BIC:                             3085.\n",
              "Df Model:                          13                                         \n",
              "Covariance Type:            nonrobust                                         \n",
              "==============================================================================\n",
              "                 coef    std err          t      P>|t|      [0.025      0.975]\n",
              "------------------------------------------------------------------------------\n",
              "const         36.4595      5.103      7.144      0.000      26.432      46.487\n",
              "CRIM          -0.1080      0.033     -3.287      0.001      -0.173      -0.043\n",
              "ZN             0.0464      0.014      3.382      0.001       0.019       0.073\n",
              "INDUS          0.0206      0.061      0.334      0.738      -0.100       0.141\n",
              "CHAS           2.6867      0.862      3.118      0.002       0.994       4.380\n",
              "NOX          -17.7666      3.820     -4.651      0.000     -25.272     -10.262\n",
              "RM             3.8099      0.418      9.116      0.000       2.989       4.631\n",
              "AGE            0.0007      0.013      0.052      0.958      -0.025       0.027\n",
              "DIS           -1.4756      0.199     -7.398      0.000      -1.867      -1.084\n",
              "RAD            0.3060      0.066      4.613      0.000       0.176       0.436\n",
              "TAX           -0.0123      0.004     -3.280      0.001      -0.020      -0.005\n",
              "PTRATIO       -0.9527      0.131     -7.283      0.000      -1.210      -0.696\n",
              "B              0.0093      0.003      3.467      0.001       0.004       0.015\n",
              "LSTAT         -0.5248      0.051    -10.347      0.000      -0.624      -0.425\n",
              "==============================================================================\n",
              "Omnibus:                      178.041   Durbin-Watson:                   1.078\n",
              "Prob(Omnibus):                  0.000   Jarque-Bera (JB):              783.126\n",
              "Skew:                           1.521   Prob(JB):                    8.84e-171\n",
              "Kurtosis:                       8.281   Cond. No.                     1.51e+04\n",
              "==============================================================================\n",
              "\n",
              "Warnings:\n",
              "[1] Standard Errors assume that the covariance matrix of the errors is correctly specified.\n",
              "[2] The condition number is large, 1.51e+04. This might indicate that there are\n",
              "strong multicollinearity or other numerical problems.\n",
              "\"\"\""
            ]
          },
          "metadata": {
            "tags": []
          },
          "execution_count": 36
        }
      ]
    },
    {
      "cell_type": "markdown",
      "metadata": {
        "id": "yLy-HMbALu97",
        "colab_type": "text"
      },
      "source": [
        "<img src='https://static1.squarespace.com/static/58f7c433bf629a737d4092ee/5aa9f7dc8165f531654c9d28/5ab029df88251bfd94890806/1521494499387/web+p+logo.jpg'>"
      ]
    },
    {
      "cell_type": "markdown",
      "metadata": {
        "id": "D51HOK8ULu9-",
        "colab_type": "text"
      },
      "source": [
        "# Assumptions & How to Check\n",
        "***"
      ]
    },
    {
      "cell_type": "markdown",
      "metadata": {
        "id": "ELFyv6_nLu-F",
        "colab_type": "text"
      },
      "source": [
        "**Source**: https://medium.com/@emredjan/emulating-r-regression-plots-in-python-43741952c034\n",
        "\n",
        "## L.I.N.E.\n",
        "\n",
        "- L - Linear Relationship between IV and DV\n",
        "- I - Independence of residuals\n",
        "- N - Normality of residuals \n",
        "- E - Equal variance of residuals\n",
        "\n",
        "## Assumptions\n",
        "\n",
        "1. Linear Relationship between IV and DV\n",
        "2. There must be no correlation among independent variables. Presence of correlation in independent variables lead to Multicollinearity. If variables are correlated, it becomes extremely difficult for the model to determine the true effect of IVs on DV.\n",
        "3. The error terms must possess constant variance. Absence of constant variance leads to heteroskedestacity.\n",
        "4. The error terms must be uncorrelated i.e. error at ∈t must not indicate the at error at ∈t+1. Presence of correlation in error terms is known as Autocorrelation. It drastically affects the regression coefficients and standard error values since they are based on the assumption of uncorrelated error terms.\n",
        "5. The dependent variable and the error terms must possess a normal distribution."
      ]
    },
    {
      "cell_type": "markdown",
      "metadata": {
        "id": "SrKX6chzLu-J",
        "colab_type": "text"
      },
      "source": [
        "## 1. Detecting Multicollinearity - VIF"
      ]
    },
    {
      "cell_type": "markdown",
      "metadata": {
        "id": "hqU-eNihLu-M",
        "colab_type": "text"
      },
      "source": [
        "**Note:** Multicollinearity isn't so much of a problem if you're main focus is prediction. \n",
        "\n",
        "**Why is this a problem:** \n",
        "- When two variables are correlated with each other, then they \"move together\". \n",
        "- This is hard for your linear regression model to interpret the exact change of your DV's. \n",
        "- It doesn't know which IV is **responsible** for the change in the DV. \n",
        "- βi coefficients will be less precise.\n",
        "- It's harder to accurately interpret the coefficients \n",
        "\n",
        "### Reference\n",
        "- VIF = 1 (Not correlated)\n",
        "- 1 < VIF < 5 (Moderately correlated)\n",
        "- VIF >=5 (Highly correlated)"
      ]
    },
    {
      "cell_type": "code",
      "metadata": {
        "id": "9LRXjwoHLu-P",
        "colab_type": "code",
        "colab": {},
        "outputId": "c5eb05d5-9e83-419c-93cd-b2fbc9d13756"
      },
      "source": [
        "from statsmodels.stats.outliers_influence import variance_inflation_factor\n",
        "\n",
        "X_vif = df.drop(['MEDV','LOGMEDV'],axis=1).assign(const=1)\n",
        "pd.Series([variance_inflation_factor(X_vif.values, i) for i in range(X_vif.shape[1])],index=X_vif.columns)"
      ],
      "execution_count": null,
      "outputs": [
        {
          "output_type": "execute_result",
          "data": {
            "text/plain": [
              "CRIM         1.792192\n",
              "ZN           2.298758\n",
              "INDUS        3.991596\n",
              "CHAS         1.073995\n",
              "NOX          4.393720\n",
              "RM           1.933744\n",
              "AGE          3.100826\n",
              "DIS          3.955945\n",
              "RAD          7.484496\n",
              "TAX          9.008554\n",
              "PTRATIO      1.799084\n",
              "B            1.348521\n",
              "LSTAT        2.941491\n",
              "const      585.265238\n",
              "dtype: float64"
            ]
          },
          "metadata": {
            "tags": []
          },
          "execution_count": 37
        }
      ]
    },
    {
      "cell_type": "markdown",
      "metadata": {
        "id": "Y8bRPTjjLu-e",
        "colab_type": "text"
      },
      "source": [
        "### Get Necessary Model Parameters (Refit for Log Transformation)"
      ]
    },
    {
      "cell_type": "code",
      "metadata": {
        "id": "lIGCpvYrLu-h",
        "colab_type": "code",
        "colab": {}
      },
      "source": [
        "# Non-Logged MEDV\n",
        "#Y = df.MEDV\n",
        "\n",
        "# Log Transformed MEDV\n",
        "#Y = df.LOGMEDV\n",
        "\n",
        "# Apply OLS to our X and Y\n",
        "lm = sm.OLS(Y, X).fit()"
      ],
      "execution_count": null,
      "outputs": []
    },
    {
      "cell_type": "code",
      "metadata": {
        "id": "G9pPI8-ALu-6",
        "colab_type": "code",
        "colab": {}
      },
      "source": [
        "# fitted values (need a constant term for intercept)\n",
        "model_fitted_y = lm.fittedvalues\n",
        "\n",
        "# model residuals\n",
        "model_residuals = lm.resid\n",
        "\n",
        "# normalized residuals\n",
        "model_norm_residuals = lm.get_influence().resid_studentized_internal\n",
        "\n",
        "# absolute squared normalized residuals\n",
        "model_norm_residuals_abs_sqrt = np.sqrt(np.abs(model_norm_residuals))\n",
        "\n",
        "# absolute residuals\n",
        "model_abs_resid = np.abs(model_residuals)\n",
        "\n",
        "# leverage, from statsmodels internals\n",
        "model_leverage = lm.get_influence().hat_matrix_diag\n",
        "\n",
        "# cook's distance, from statsmodels internals\n",
        "model_cooks = lm.get_influence().cooks_distance[0]"
      ],
      "execution_count": null,
      "outputs": []
    },
    {
      "cell_type": "markdown",
      "metadata": {
        "id": "KSpQzc3lLu_I",
        "colab_type": "text"
      },
      "source": [
        "## 2. Detecting Heteroskedestacity - Residual Plot"
      ]
    },
    {
      "cell_type": "markdown",
      "metadata": {
        "id": "7o3SogZaLu_K",
        "colab_type": "text"
      },
      "source": [
        "Homescedasticity means the errors exhibit constant variance. **This is a key assumption of linear regression.**\n",
        "\n",
        "Heteroscedasticity, on the other hand, is what happens when errors show some sort of growth. \n",
        "It's not Homescedastic if there is a pattern like: \n",
        "- quadratic shaped\n",
        "- funnel shaped \n",
        "\n",
        "<div class=\"alert alert-block alert-success\">\n",
        "<b>TO DO:</b> \n",
        "<p>1. Try refitting the residual plot with the Log Transformed MEDV</p>\n",
        "</div>\n"
      ]
    },
    {
      "cell_type": "code",
      "metadata": {
        "scrolled": false,
        "id": "QA370NgYLu_M",
        "colab_type": "code",
        "colab": {},
        "outputId": "21b6ecfb-5fd4-48ad-f4e6-c190cf8b47a1"
      },
      "source": [
        "# Create residual plot of MEDV vs Residuals\n",
        "plot_lm_1 = plt.figure(1)\n",
        "plot_lm_1.set_figheight(5)\n",
        "plot_lm_1.set_figwidth(8)\n",
        "\n",
        "model_fitted_y = lm.fittedvalues\n",
        "\n",
        "plot_lm_1.axes[0] = sns.residplot(model_fitted_y, 'MEDV', data=df, \n",
        "                          scatter_kws={'alpha': 0.5})\n",
        "\n",
        "plot_lm_1.axes[0].set_title('Residuals vs Fitted')\n",
        "plot_lm_1.axes[0].set_xlabel('Fitted values')\n",
        "plot_lm_1.axes[0].set_ylabel('Residuals')"
      ],
      "execution_count": null,
      "outputs": [
        {
          "output_type": "execute_result",
          "data": {
            "text/plain": [
              "Text(0,0.5,'Residuals')"
            ]
          },
          "metadata": {
            "tags": []
          },
          "execution_count": 40
        },
        {
          "output_type": "display_data",
          "data": {
            "image/png": "[encoded data removed]",
            "text/plain": [
              "<Figure size 576x360 with 1 Axes>"
            ]
          },
          "metadata": {
            "tags": [],
            "needs_background": "light"
          }
        }
      ]
    },
    {
      "cell_type": "markdown",
      "metadata": {
        "id": "lB5KyKnILu_Y",
        "colab_type": "text"
      },
      "source": [
        "### Log Transformed MEDV"
      ]
    },
    {
      "cell_type": "code",
      "metadata": {
        "id": "C6WshnpOLu_a",
        "colab_type": "code",
        "colab": {},
        "outputId": "09e020e6-50ff-4e00-f8f0-7aa184065138"
      },
      "source": [
        "\"\"\"\n",
        "#_________________________________________________TODO 1.______________________________________________\n",
        "# Refit with Log Transformed MEDV and apply the graphs again:\n",
        "\n",
        "\"\"\""
      ],
      "execution_count": null,
      "outputs": [
        {
          "output_type": "execute_result",
          "data": {
            "text/plain": [
              "'\\n#_________________________________________________TODO 1.______________________________________________\\n# Refit with Log Transformed MEDV and apply the graphs again:\\n\\n'"
            ]
          },
          "metadata": {
            "tags": []
          },
          "execution_count": 41
        }
      ]
    },
    {
      "cell_type": "markdown",
      "metadata": {
        "id": "P4j-FLIDLu_k",
        "colab_type": "text"
      },
      "source": [
        "## 3. Detecting Linearity, Normal Distribution of Residuals, & Zero Mean"
      ]
    },
    {
      "cell_type": "markdown",
      "metadata": {
        "id": "Rqpf1QzlLu_m",
        "colab_type": "text"
      },
      "source": [
        "\n",
        "<div class=\"alert alert-block alert-success\">\n",
        "<b>TO DO:</b> \n",
        "<p>1. Refit with the **Log Transformed Y** and compare the results. Does it look better?</p>\n",
        "</div>"
      ]
    },
    {
      "cell_type": "code",
      "metadata": {
        "scrolled": true,
        "id": "iir4juRkLu_o",
        "colab_type": "code",
        "colab": {},
        "outputId": "6157df63-4671-4b3b-f96b-4daa9b5c2d58"
      },
      "source": [
        "import seaborn as sns; sns.set()\n",
        "\n",
        "# Check for Linearity\n",
        "f = plt.figure(figsize=(14,5))\n",
        "ax = f.add_subplot(121)\n",
        "#sns.scatterplot(y_test,y_pred_ols,ax=ax,color=['r','g'])\n",
        "# use the function regplot to make a scatterplot\n",
        "sns.regplot(x=df.MEDV, y=model_fitted_y, line_kws={\"color\":\"r\",\"alpha\":0.7,\"lw\":2})\n",
        "plt.title('Check for Linearity')\n",
        "plt.xlabel('Actual value')\n",
        "plt.ylabel('Predicted value')\n",
        "\n",
        "# Check for Residual normality & mean\n",
        "ax = f.add_subplot(122)\n",
        "sns.distplot((df.MEDV - model_fitted_y),ax=ax,color='b')\n",
        "plt.axvline((df.MEDV - model_fitted_y).mean(),color='k',linestyle='--')\n",
        "plt.title('Check for Residual normality & mean')\n",
        "plt.xlabel('Residual eror')\n",
        "plt.ylabel('$p(x)$');"
      ],
      "execution_count": null,
      "outputs": [
        {
          "output_type": "stream",
          "text": [
            "/anaconda3/lib/python3.7/site-packages/scipy/stats/stats.py:1713: FutureWarning: Using a non-tuple sequence for multidimensional indexing is deprecated; use `arr[tuple(seq)]` instead of `arr[seq]`. In the future this will be interpreted as an array index, `arr[np.array(seq)]`, which will result either in an error or a different result.\n",
            "  return np.add.reduce(sorted[indexer] * weights, axis=axis) / sumval\n"
          ],
          "name": "stderr"
        },
        {
          "output_type": "display_data",
          "data": {
            "image/png": "[encoded data removed]",
            "text/plain": [
              "<Figure size 1008x360 with 2 Axes>"
            ]
          },
          "metadata": {
            "tags": []
          }
        }
      ]
    },
    {
      "cell_type": "markdown",
      "metadata": {
        "id": "z71Jv7mwLu_0",
        "colab_type": "text"
      },
      "source": [
        "### Log Transformed MEDV"
      ]
    },
    {
      "cell_type": "code",
      "metadata": {
        "id": "uYIobt9kLu_2",
        "colab_type": "code",
        "colab": {},
        "outputId": "9b2cc178-d983-4050-dd2a-12ed171305f6"
      },
      "source": [
        "\"\"\"\n",
        "#_________________________________________________TODO 1.______________________________________________\n",
        "# Refit with Log Transformed MEDV and apply the graphs again:\n",
        "\n",
        "\"\"\""
      ],
      "execution_count": null,
      "outputs": [
        {
          "output_type": "execute_result",
          "data": {
            "text/plain": [
              "'\\n#_________________________________________________TODO 1.______________________________________________\\n# Refit with Log Transformed MEDV and apply the graphs again:\\n\\n'"
            ]
          },
          "metadata": {
            "tags": []
          },
          "execution_count": 43
        }
      ]
    },
    {
      "cell_type": "markdown",
      "metadata": {
        "id": "d41U--R-LvAB",
        "colab_type": "text"
      },
      "source": [
        "## 4. Detecting Normal Distribution of Residuals - QQ Plot"
      ]
    },
    {
      "cell_type": "markdown",
      "metadata": {
        "id": "kcfZd3OMLvAD",
        "colab_type": "text"
      },
      "source": [
        "This plot shows if residuals are normally distributed. Do residuals follow a straight line well or do they deviate severely? It’s good if residuals are lined well on the straight dashed line.\n",
        "\n",
        "#### Why error terms should be normally distributed? \n",
        "For parameter estimate (i.e. estimating the βi’s) we don't need that assumption. But, if it is not a normal distribution, some of those hypotheses tests which we will be doing as part of diagnostics may not be valid. \n",
        "For example:  To check whether the Beta (the regression coefficient) is significant or not, I'll do a T-test. So, if my error is not a normal distribution, then the statistic I derive may not be a T-distribution. \n",
        "\n",
        "<div class=\"alert alert-block alert-success\">\n",
        "<b>TO DO:</b> \n",
        "<p>1. Refit the OLS with the Log Transformed MEDV and perform the QQ Plot again. Does it look better?</p>\n",
        "</div>"
      ]
    },
    {
      "cell_type": "markdown",
      "metadata": {
        "id": "OpkKvfxfLvAF",
        "colab_type": "text"
      },
      "source": [
        "<img src='http://i63.tinypic.com/2qx8hnb.png'/>"
      ]
    },
    {
      "cell_type": "code",
      "metadata": {
        "scrolled": true,
        "id": "LeDH5E5hLvAH",
        "colab_type": "code",
        "colab": {},
        "outputId": "e15c3d8f-0819-4949-c414-fb16c387dbe7"
      },
      "source": [
        "from statsmodels.graphics.gofplots import ProbPlot\n",
        "\n",
        "QQ = ProbPlot(model_norm_residuals)\n",
        "plot_lm_2 = QQ.qqplot(line='45', alpha=0.5, color='#4C72B0', lw=1)\n",
        "\n",
        "plot_lm_2.set_figheight(5)\n",
        "plot_lm_2.set_figwidth(10)\n",
        "\n",
        "plot_lm_2.axes[0].set_title('Normal Q-Q')\n",
        "plot_lm_2.axes[0].set_xlabel('Theoretical Quantiles')\n",
        "plot_lm_2.axes[0].set_ylabel('Standardized Residuals');"
      ],
      "execution_count": null,
      "outputs": [
        {
          "output_type": "display_data",
          "data": {
            "image/png": "[encoded data removed]",
            "text/plain": [
              "<Figure size 720x360 with 1 Axes>"
            ]
          },
          "metadata": {
            "tags": []
          }
        }
      ]
    },
    {
      "cell_type": "markdown",
      "metadata": {
        "id": "dU_MErs7LvAU",
        "colab_type": "text"
      },
      "source": [
        "### Log Transformed MEDV"
      ]
    },
    {
      "cell_type": "code",
      "metadata": {
        "id": "JdfT4fKZLvAW",
        "colab_type": "code",
        "colab": {},
        "outputId": "d810e3df-b5ad-430b-aef1-4f1734235fa4"
      },
      "source": [
        "\"\"\"\n",
        "#_________________________________________________TODO 1.______________________________________________\n",
        "# Refit with Log Transformed MEDV and apply the QQ PLot again:\n",
        "\n",
        "\"\"\""
      ],
      "execution_count": null,
      "outputs": [
        {
          "output_type": "execute_result",
          "data": {
            "text/plain": [
              "'\\n#_________________________________________________TODO 1.______________________________________________\\n# Refit with Log Transformed MEDV and apply the QQ PLot again:\\n\\n'"
            ]
          },
          "metadata": {
            "tags": []
          },
          "execution_count": 45
        }
      ]
    },
    {
      "cell_type": "markdown",
      "metadata": {
        "id": "DfMNyNBOLvAh",
        "colab_type": "text"
      },
      "source": [
        "<img src='https://3.bp.blogspot.com/-jKKePccDp00/Wtx9jR1ZpSI/AAAAAAACrBI/0mkL7mnIQ3kLTGBjf2h9GSzw75IqbFBEwCLcBGAs/s1600/correlation-linear-regression-minitab-output-3-638-640x500.jpg'>"
      ]
    },
    {
      "cell_type": "markdown",
      "metadata": {
        "id": "CvtuyJ3JLvAj",
        "colab_type": "text"
      },
      "source": [
        "# Modeling\n",
        "***"
      ]
    },
    {
      "cell_type": "markdown",
      "metadata": {
        "id": "C0ZOQJAVLvAp",
        "colab_type": "text"
      },
      "source": [
        "Let's perform three types of Linear Regression and compare their performance:\n",
        "1. Simple Linear Regression\n",
        "2. Multiple Regression\n",
        "3. Polynomial Regression"
      ]
    },
    {
      "cell_type": "markdown",
      "metadata": {
        "id": "y8YJtzrXLvAr",
        "colab_type": "text"
      },
      "source": [
        "## Simple Linear Regression"
      ]
    },
    {
      "cell_type": "code",
      "metadata": {
        "id": "ekP-iGGXLvAt",
        "colab_type": "code",
        "colab": {},
        "outputId": "bb769e86-6665-421b-c498-98e2231d1479"
      },
      "source": [
        "# read data into a DataFrame\n",
        "from sklearn.datasets import load_boston\n",
        "boston_dataset = load_boston()\n",
        "df = pd.DataFrame(boston_dataset.data, columns=boston_dataset.feature_names)\n",
        "df.head()"
      ],
      "execution_count": null,
      "outputs": [
        {
          "output_type": "execute_result",
          "data": {
            "text/html": [
              "<div>\n",
              "<style scoped>\n",
              "    .dataframe tbody tr th:only-of-type {\n",
              "        vertical-align: middle;\n",
              "    }\n",
              "\n",
              "    .dataframe tbody tr th {\n",
              "        vertical-align: top;\n",
              "    }\n",
              "\n",
              "    .dataframe thead th {\n",
              "        text-align: right;\n",
              "    }\n",
              "</style>\n",
              "<table border=\"1\" class=\"dataframe\">\n",
              "  <thead>\n",
              "    <tr style=\"text-align: right;\">\n",
              "      <th></th>\n",
              "      <th>CRIM</th>\n",
              "      <th>ZN</th>\n",
              "      <th>INDUS</th>\n",
              "      <th>CHAS</th>\n",
              "      <th>NOX</th>\n",
              "      <th>RM</th>\n",
              "      <th>AGE</th>\n",
              "      <th>DIS</th>\n",
              "      <th>RAD</th>\n",
              "      <th>TAX</th>\n",
              "      <th>PTRATIO</th>\n",
              "      <th>B</th>\n",
              "      <th>LSTAT</th>\n",
              "    </tr>\n",
              "  </thead>\n",
              "  <tbody>\n",
              "    <tr>\n",
              "      <th>0</th>\n",
              "      <td>0.00632</td>\n",
              "      <td>18.0</td>\n",
              "      <td>2.31</td>\n",
              "      <td>0.0</td>\n",
              "      <td>0.538</td>\n",
              "      <td>6.575</td>\n",
              "      <td>65.2</td>\n",
              "      <td>4.0900</td>\n",
              "      <td>1.0</td>\n",
              "      <td>296.0</td>\n",
              "      <td>15.3</td>\n",
              "      <td>396.90</td>\n",
              "      <td>4.98</td>\n",
              "    </tr>\n",
              "    <tr>\n",
              "      <th>1</th>\n",
              "      <td>0.02731</td>\n",
              "      <td>0.0</td>\n",
              "      <td>7.07</td>\n",
              "      <td>0.0</td>\n",
              "      <td>0.469</td>\n",
              "      <td>6.421</td>\n",
              "      <td>78.9</td>\n",
              "      <td>4.9671</td>\n",
              "      <td>2.0</td>\n",
              "      <td>242.0</td>\n",
              "      <td>17.8</td>\n",
              "      <td>396.90</td>\n",
              "      <td>9.14</td>\n",
              "    </tr>\n",
              "    <tr>\n",
              "      <th>2</th>\n",
              "      <td>0.02729</td>\n",
              "      <td>0.0</td>\n",
              "      <td>7.07</td>\n",
              "      <td>0.0</td>\n",
              "      <td>0.469</td>\n",
              "      <td>7.185</td>\n",
              "      <td>61.1</td>\n",
              "      <td>4.9671</td>\n",
              "      <td>2.0</td>\n",
              "      <td>242.0</td>\n",
              "      <td>17.8</td>\n",
              "      <td>392.83</td>\n",
              "      <td>4.03</td>\n",
              "    </tr>\n",
              "    <tr>\n",
              "      <th>3</th>\n",
              "      <td>0.03237</td>\n",
              "      <td>0.0</td>\n",
              "      <td>2.18</td>\n",
              "      <td>0.0</td>\n",
              "      <td>0.458</td>\n",
              "      <td>6.998</td>\n",
              "      <td>45.8</td>\n",
              "      <td>6.0622</td>\n",
              "      <td>3.0</td>\n",
              "      <td>222.0</td>\n",
              "      <td>18.7</td>\n",
              "      <td>394.63</td>\n",
              "      <td>2.94</td>\n",
              "    </tr>\n",
              "    <tr>\n",
              "      <th>4</th>\n",
              "      <td>0.06905</td>\n",
              "      <td>0.0</td>\n",
              "      <td>2.18</td>\n",
              "      <td>0.0</td>\n",
              "      <td>0.458</td>\n",
              "      <td>7.147</td>\n",
              "      <td>54.2</td>\n",
              "      <td>6.0622</td>\n",
              "      <td>3.0</td>\n",
              "      <td>222.0</td>\n",
              "      <td>18.7</td>\n",
              "      <td>396.90</td>\n",
              "      <td>5.33</td>\n",
              "    </tr>\n",
              "  </tbody>\n",
              "</table>\n",
              "</div>"
            ],
            "text/plain": [
              "      CRIM    ZN  INDUS  CHAS    NOX     RM   AGE     DIS  RAD    TAX  \\\n",
              "0  0.00632  18.0   2.31   0.0  0.538  6.575  65.2  4.0900  1.0  296.0   \n",
              "1  0.02731   0.0   7.07   0.0  0.469  6.421  78.9  4.9671  2.0  242.0   \n",
              "2  0.02729   0.0   7.07   0.0  0.469  7.185  61.1  4.9671  2.0  242.0   \n",
              "3  0.03237   0.0   2.18   0.0  0.458  6.998  45.8  6.0622  3.0  222.0   \n",
              "4  0.06905   0.0   2.18   0.0  0.458  7.147  54.2  6.0622  3.0  222.0   \n",
              "\n",
              "   PTRATIO       B  LSTAT  \n",
              "0     15.3  396.90   4.98  \n",
              "1     17.8  396.90   9.14  \n",
              "2     17.8  392.83   4.03  \n",
              "3     18.7  394.63   2.94  \n",
              "4     18.7  396.90   5.33  "
            ]
          },
          "metadata": {
            "tags": []
          },
          "execution_count": 57
        }
      ]
    },
    {
      "cell_type": "code",
      "metadata": {
        "id": "rCBDrDgELvA3",
        "colab_type": "code",
        "colab": {}
      },
      "source": [
        "df['MEDV'] = boston_dataset.target\n",
        "df['LOGMEDV'] = np.log(df.MEDV+1) # Get Log Transformed MEDV\n",
        "Y = df.MEDV"
      ],
      "execution_count": null,
      "outputs": []
    },
    {
      "cell_type": "code",
      "metadata": {
        "id": "X_ntXa5NLvBD",
        "colab_type": "code",
        "colab": {}
      },
      "source": [
        "X = df.LSTAT\n",
        "X = X.values.reshape(-1,1)\n",
        "Y = df.LOGMEDV"
      ],
      "execution_count": null,
      "outputs": []
    },
    {
      "cell_type": "code",
      "metadata": {
        "id": "v-mHqLTxLvBi",
        "colab_type": "code",
        "colab": {}
      },
      "source": [
        "# Split data into train/test sets\n",
        "X_train, X_test, y_train, y_test = train_test_split(X, Y, test_size=0.20, random_state=42)"
      ],
      "execution_count": null,
      "outputs": []
    },
    {
      "cell_type": "code",
      "metadata": {
        "id": "_I5h5-iFLvBt",
        "colab_type": "code",
        "colab": {}
      },
      "source": [
        "# Initialize LR Model\n",
        "lr = LinearRegression()\n",
        "\n",
        "# Fit the model\n",
        "lr.fit(X_train, y_train)\n",
        "\n",
        "# Make predictions\n",
        "predictions = lr.predict(X_test)"
      ],
      "execution_count": null,
      "outputs": []
    },
    {
      "cell_type": "code",
      "metadata": {
        "id": "UXa4TmyHLvB9",
        "colab_type": "code",
        "colab": {},
        "outputId": "26e1ad70-2be1-4773-e2f3-9348be613407"
      },
      "source": [
        "# Store results in variable\n",
        "r2 = format(r2_score(y_test, predictions),'.3f')\n",
        "rmse = format(np.sqrt(mean_squared_error(y_test, predictions)),'.3f')\n",
        "mae = format(mean_absolute_error(y_test, predictions),'.3f')\n",
        "\n",
        "# Print out result\n",
        "print(\"R Squared Score: \", format(r2_score(y_test, predictions),'.3f'))\n",
        "print(\"Root Mean Squared Error: \", format(np.sqrt(mean_squared_error(y_test, predictions)),'.3f'))\n",
        "print(\"Mean Absolute Error: \", format(mean_absolute_error(y_test, predictions),'.3f'))"
      ],
      "execution_count": null,
      "outputs": [
        {
          "output_type": "stream",
          "text": [
            "R Squared Score:  0.666\n",
            "Root Mean Squared Error:  0.215\n",
            "Mean Absolute Error:  0.161\n"
          ],
          "name": "stdout"
        }
      ]
    },
    {
      "cell_type": "code",
      "metadata": {
        "scrolled": true,
        "id": "KkF0gEXaLvCL",
        "colab_type": "code",
        "colab": {},
        "outputId": "513ff0ab-261d-498b-c62d-0d2ef220d989"
      },
      "source": [
        "result = pd.DataFrame({'Model':['Simple'],'R Squared':[r2], 'RMSE':[rmse], 'MAE':[mae]})\n",
        "result"
      ],
      "execution_count": null,
      "outputs": [
        {
          "output_type": "execute_result",
          "data": {
            "text/html": [
              "<div>\n",
              "<style scoped>\n",
              "    .dataframe tbody tr th:only-of-type {\n",
              "        vertical-align: middle;\n",
              "    }\n",
              "\n",
              "    .dataframe tbody tr th {\n",
              "        vertical-align: top;\n",
              "    }\n",
              "\n",
              "    .dataframe thead th {\n",
              "        text-align: right;\n",
              "    }\n",
              "</style>\n",
              "<table border=\"1\" class=\"dataframe\">\n",
              "  <thead>\n",
              "    <tr style=\"text-align: right;\">\n",
              "      <th></th>\n",
              "      <th>Model</th>\n",
              "      <th>R Squared</th>\n",
              "      <th>RMSE</th>\n",
              "      <th>MAE</th>\n",
              "    </tr>\n",
              "  </thead>\n",
              "  <tbody>\n",
              "    <tr>\n",
              "      <th>0</th>\n",
              "      <td>Simple</td>\n",
              "      <td>0.666</td>\n",
              "      <td>0.215</td>\n",
              "      <td>0.161</td>\n",
              "    </tr>\n",
              "  </tbody>\n",
              "</table>\n",
              "</div>"
            ],
            "text/plain": [
              "    Model R Squared   RMSE    MAE\n",
              "0  Simple     0.666  0.215  0.161"
            ]
          },
          "metadata": {
            "tags": []
          },
          "execution_count": 75
        }
      ]
    },
    {
      "cell_type": "markdown",
      "metadata": {
        "id": "els8tYmpLvCa",
        "colab_type": "text"
      },
      "source": [
        "## Multiple Regression"
      ]
    },
    {
      "cell_type": "code",
      "metadata": {
        "id": "Bug-cBA1LvCd",
        "colab_type": "code",
        "colab": {}
      },
      "source": [
        "X = df.drop(['MEDV','LOGMEDV'],axis=1)\n",
        "Y = df.LOGMEDV"
      ],
      "execution_count": null,
      "outputs": []
    },
    {
      "cell_type": "code",
      "metadata": {
        "id": "MkLYV4AtLvCm",
        "colab_type": "code",
        "colab": {}
      },
      "source": [
        "# Split data into train/test sets\n",
        "X_train, X_test, y_train, y_test = train_test_split(X, Y, test_size=0.20, random_state=42)"
      ],
      "execution_count": null,
      "outputs": []
    },
    {
      "cell_type": "code",
      "metadata": {
        "id": "F8xclM2-LvC0",
        "colab_type": "code",
        "colab": {}
      },
      "source": [
        "# Initialize LR Model\n",
        "lr = LinearRegression()\n",
        "\n",
        "# Fit the model\n",
        "lr.fit(X_train, y_train)\n",
        "\n",
        "# Make predictions\n",
        "predictions = lr.predict(X_test)"
      ],
      "execution_count": null,
      "outputs": []
    },
    {
      "cell_type": "code",
      "metadata": {
        "id": "LlD-kukSLvC_",
        "colab_type": "code",
        "colab": {},
        "outputId": "a466e78b-201b-454d-c58d-690d50ad62db"
      },
      "source": [
        "# Store results in variable\n",
        "r2 = format(r2_score(y_test, predictions),'.3f')\n",
        "rmse = format(np.sqrt(mean_squared_error(y_test, predictions)),'.3f')\n",
        "mae = format(mean_absolute_error(y_test, predictions),'.3f')\n",
        "\n",
        "# Print out result\n",
        "print(\"R Squared Score: \", format(r2_score(y_test, predictions),'.3f'))\n",
        "print(\"Root Mean Squared Error: \", format(np.sqrt(mean_squared_error(y_test, predictions)),'.3f'))\n",
        "print(\"Mean Absolute Error: \", format(mean_absolute_error(y_test, predictions),'.3f'))"
      ],
      "execution_count": null,
      "outputs": [
        {
          "output_type": "stream",
          "text": [
            "R Squared Score:  0.745\n",
            "Root Mean Squared Error:  0.188\n",
            "Mean Absolute Error:  0.126\n"
          ],
          "name": "stdout"
        }
      ]
    },
    {
      "cell_type": "code",
      "metadata": {
        "id": "gbds6-KDLvDJ",
        "colab_type": "code",
        "colab": {},
        "outputId": "97d084ef-fc33-4b46-8f2b-9a01adbb2c55"
      },
      "source": [
        "result_2 = pd.DataFrame({'Model':['Multiple'],'R Squared':[r2], 'RMSE':[rmse], 'MAE':[mae]})\n",
        "result = result.append(result_2)\n",
        "result"
      ],
      "execution_count": null,
      "outputs": [
        {
          "output_type": "execute_result",
          "data": {
            "text/html": [
              "<div>\n",
              "<style scoped>\n",
              "    .dataframe tbody tr th:only-of-type {\n",
              "        vertical-align: middle;\n",
              "    }\n",
              "\n",
              "    .dataframe tbody tr th {\n",
              "        vertical-align: top;\n",
              "    }\n",
              "\n",
              "    .dataframe thead th {\n",
              "        text-align: right;\n",
              "    }\n",
              "</style>\n",
              "<table border=\"1\" class=\"dataframe\">\n",
              "  <thead>\n",
              "    <tr style=\"text-align: right;\">\n",
              "      <th></th>\n",
              "      <th>Model</th>\n",
              "      <th>R Squared</th>\n",
              "      <th>RMSE</th>\n",
              "      <th>MAE</th>\n",
              "    </tr>\n",
              "  </thead>\n",
              "  <tbody>\n",
              "    <tr>\n",
              "      <th>0</th>\n",
              "      <td>Simple</td>\n",
              "      <td>0.666</td>\n",
              "      <td>0.215</td>\n",
              "      <td>0.161</td>\n",
              "    </tr>\n",
              "    <tr>\n",
              "      <th>0</th>\n",
              "      <td>Multiple</td>\n",
              "      <td>0.745</td>\n",
              "      <td>0.188</td>\n",
              "      <td>0.126</td>\n",
              "    </tr>\n",
              "  </tbody>\n",
              "</table>\n",
              "</div>"
            ],
            "text/plain": [
              "      Model R Squared   RMSE    MAE\n",
              "0    Simple     0.666  0.215  0.161\n",
              "0  Multiple     0.745  0.188  0.126"
            ]
          },
          "metadata": {
            "tags": []
          },
          "execution_count": 80
        }
      ]
    },
    {
      "cell_type": "markdown",
      "metadata": {
        "id": "YEYstgOyLvDS",
        "colab_type": "text"
      },
      "source": [
        "## Polynomial Regression"
      ]
    },
    {
      "cell_type": "markdown",
      "metadata": {
        "id": "m8F4JBYXLvDU",
        "colab_type": "text"
      },
      "source": [
        "Polynomial regression is useful because it allows you to fit a model to **nonlinear trends**.\n",
        "\n",
        "It creates **new interaction features** in your dataset by:\n",
        "- Multiplying features together\n",
        "- Squaring features\n",
        "- Cubing features\n",
        "- Etc..\n",
        "\n",
        "#### Example\n",
        "You have a matrix [a,b] and want to perform a polynomial regression of degree=2\n",
        "- new matrix: [1, a, b, a^2, ab, b^2]"
      ]
    },
    {
      "cell_type": "code",
      "metadata": {
        "id": "v_XSbs6GLvDV",
        "colab_type": "code",
        "colab": {},
        "outputId": "37ec4e0d-ea8f-4cec-f2dd-3a43cfd1dd72"
      },
      "source": [
        "# Original Matrix\n",
        "np.array(X_train.head(1))"
      ],
      "execution_count": null,
      "outputs": [
        {
          "output_type": "execute_result",
          "data": {
            "text/plain": [
              "array([[1.50234e+01, 0.00000e+00, 1.81000e+01, 0.00000e+00, 6.14000e-01,\n",
              "        5.30400e+00, 9.73000e+01, 2.10070e+00, 2.40000e+01, 6.66000e+02,\n",
              "        2.02000e+01, 3.49480e+02, 2.49100e+01]])"
            ]
          },
          "metadata": {
            "tags": []
          },
          "execution_count": 81
        }
      ]
    },
    {
      "cell_type": "markdown",
      "metadata": {
        "id": "FNORFItOLvDi",
        "colab_type": "text"
      },
      "source": [
        "### Import Polynomial Features "
      ]
    },
    {
      "cell_type": "code",
      "metadata": {
        "id": "nrjiduFJLvDk",
        "colab_type": "code",
        "colab": {}
      },
      "source": [
        "from sklearn.preprocessing import PolynomialFeatures\n",
        "polyfeat = PolynomialFeatures(degree=2)\n",
        "X_trainpoly = polyfeat.fit_transform(X_train)\n",
        "X_testpoly = polyfeat.fit_transform(X_test)\n",
        "poly = LinearRegression().fit(X_trainpoly, y_train)\n",
        "\n",
        "predp = poly.predict(X_testpoly)"
      ],
      "execution_count": null,
      "outputs": []
    },
    {
      "cell_type": "markdown",
      "metadata": {
        "id": "sihN3uADLvDr",
        "colab_type": "text"
      },
      "source": [
        "### Examine Polynomial Features"
      ]
    },
    {
      "cell_type": "code",
      "metadata": {
        "scrolled": true,
        "id": "nD5gcAkmLvDt",
        "colab_type": "code",
        "colab": {},
        "outputId": "93751e14-9490-4e11-e6c0-5c668f96a350"
      },
      "source": [
        "# Polynomial Transformation Matrix\n",
        "X_trainpoly[0]"
      ],
      "execution_count": null,
      "outputs": [
        {
          "output_type": "execute_result",
          "data": {
            "text/plain": [
              "array([1.00000000e+00, 1.50234000e+01, 0.00000000e+00, 1.81000000e+01,\n",
              "       0.00000000e+00, 6.14000000e-01, 5.30400000e+00, 9.73000000e+01,\n",
              "       2.10070000e+00, 2.40000000e+01, 6.66000000e+02, 2.02000000e+01,\n",
              "       3.49480000e+02, 2.49100000e+01, 2.25702548e+02, 0.00000000e+00,\n",
              "       2.71923540e+02, 0.00000000e+00, 9.22436760e+00, 7.96841136e+01,\n",
              "       1.46177682e+03, 3.15596564e+01, 3.60561600e+02, 1.00055844e+04,\n",
              "       3.03472680e+02, 5.25037783e+03, 3.74232894e+02, 0.00000000e+00,\n",
              "       0.00000000e+00, 0.00000000e+00, 0.00000000e+00, 0.00000000e+00,\n",
              "       0.00000000e+00, 0.00000000e+00, 0.00000000e+00, 0.00000000e+00,\n",
              "       0.00000000e+00, 0.00000000e+00, 0.00000000e+00, 3.27610000e+02,\n",
              "       0.00000000e+00, 1.11134000e+01, 9.60024000e+01, 1.76113000e+03,\n",
              "       3.80226700e+01, 4.34400000e+02, 1.20546000e+04, 3.65620000e+02,\n",
              "       6.32558800e+03, 4.50871000e+02, 0.00000000e+00, 0.00000000e+00,\n",
              "       0.00000000e+00, 0.00000000e+00, 0.00000000e+00, 0.00000000e+00,\n",
              "       0.00000000e+00, 0.00000000e+00, 0.00000000e+00, 0.00000000e+00,\n",
              "       3.76996000e-01, 3.25665600e+00, 5.97422000e+01, 1.28982980e+00,\n",
              "       1.47360000e+01, 4.08924000e+02, 1.24028000e+01, 2.14580720e+02,\n",
              "       1.52947400e+01, 2.81324160e+01, 5.16079200e+02, 1.11421128e+01,\n",
              "       1.27296000e+02, 3.53246400e+03, 1.07140800e+02, 1.85364192e+03,\n",
              "       1.32122640e+02, 9.46729000e+03, 2.04398110e+02, 2.33520000e+03,\n",
              "       6.48018000e+04, 1.96546000e+03, 3.40044040e+04, 2.42374300e+03,\n",
              "       4.41294049e+00, 5.04168000e+01, 1.39906620e+03, 4.24341400e+01,\n",
              "       7.34152636e+02, 5.23284370e+01, 5.76000000e+02, 1.59840000e+04,\n",
              "       4.84800000e+02, 8.38752000e+03, 5.97840000e+02, 4.43556000e+05,\n",
              "       1.34532000e+04, 2.32753680e+05, 1.65900600e+04, 4.08040000e+02,\n",
              "       7.05949600e+03, 5.03182000e+02, 1.22136270e+05, 8.70554680e+03,\n",
              "       6.20508100e+02])"
            ]
          },
          "metadata": {
            "tags": []
          },
          "execution_count": 83
        }
      ]
    },
    {
      "cell_type": "code",
      "metadata": {
        "id": "4kp4t0UiLvD1",
        "colab_type": "code",
        "colab": {},
        "outputId": "519930a3-b330-4423-d26a-729b334087e4"
      },
      "source": [
        "r2 = format(r2_score(y_test, predp),'.3f')\n",
        "mse = format(np.sqrt(mean_squared_error(y_test, predp)),'.3f')\n",
        "mae = format(mean_absolute_error(y_test, predp),'.3f')\n",
        "\n",
        "print(\"R Squared Score: \", format(r2_score(y_test, predp),'.3f'))\n",
        "print(\"Root Mean Squared Error: \", format(np.sqrt(mean_squared_error(y_test, predp)),'.3f'))\n",
        "print(\"Mean Absolute Error: \", format(mean_absolute_error(y_test, predp),'.3f'))"
      ],
      "execution_count": null,
      "outputs": [
        {
          "output_type": "stream",
          "text": [
            "R Squared Score:  0.813\n",
            "Root Mean Squared Error:  0.161\n",
            "Mean Absolute Error:  0.117\n"
          ],
          "name": "stdout"
        }
      ]
    },
    {
      "cell_type": "markdown",
      "metadata": {
        "id": "dEeiF-ChLvD9",
        "colab_type": "text"
      },
      "source": [
        "# Regression Performance Comparison"
      ]
    },
    {
      "cell_type": "code",
      "metadata": {
        "scrolled": true,
        "id": "JviYAOLuLvD-",
        "colab_type": "code",
        "colab": {},
        "outputId": "fb7876b1-c23c-4bed-9455-79228e679621"
      },
      "source": [
        "result_2 = pd.DataFrame({'Model':['Polynomial'],'R Squared':[r2], 'RMSE':[mse], 'MAE':[mae]})\n",
        "result = result.append(result_2)\n",
        "result"
      ],
      "execution_count": null,
      "outputs": [
        {
          "output_type": "execute_result",
          "data": {
            "text/html": [
              "<div>\n",
              "<style scoped>\n",
              "    .dataframe tbody tr th:only-of-type {\n",
              "        vertical-align: middle;\n",
              "    }\n",
              "\n",
              "    .dataframe tbody tr th {\n",
              "        vertical-align: top;\n",
              "    }\n",
              "\n",
              "    .dataframe thead th {\n",
              "        text-align: right;\n",
              "    }\n",
              "</style>\n",
              "<table border=\"1\" class=\"dataframe\">\n",
              "  <thead>\n",
              "    <tr style=\"text-align: right;\">\n",
              "      <th></th>\n",
              "      <th>Model</th>\n",
              "      <th>R Squared</th>\n",
              "      <th>RMSE</th>\n",
              "      <th>MAE</th>\n",
              "    </tr>\n",
              "  </thead>\n",
              "  <tbody>\n",
              "    <tr>\n",
              "      <th>0</th>\n",
              "      <td>Simple</td>\n",
              "      <td>0.666</td>\n",
              "      <td>0.215</td>\n",
              "      <td>0.161</td>\n",
              "    </tr>\n",
              "    <tr>\n",
              "      <th>0</th>\n",
              "      <td>Multiple</td>\n",
              "      <td>0.745</td>\n",
              "      <td>0.188</td>\n",
              "      <td>0.126</td>\n",
              "    </tr>\n",
              "    <tr>\n",
              "      <th>0</th>\n",
              "      <td>Polynomial</td>\n",
              "      <td>0.813</td>\n",
              "      <td>0.161</td>\n",
              "      <td>0.117</td>\n",
              "    </tr>\n",
              "  </tbody>\n",
              "</table>\n",
              "</div>"
            ],
            "text/plain": [
              "        Model R Squared   RMSE    MAE\n",
              "0      Simple     0.666  0.215  0.161\n",
              "0    Multiple     0.745  0.188  0.126\n",
              "0  Polynomial     0.813  0.161  0.117"
            ]
          },
          "metadata": {
            "tags": []
          },
          "execution_count": 85
        }
      ]
    },
    {
      "cell_type": "markdown",
      "metadata": {
        "id": "LEmgEveBLvEG",
        "colab_type": "text"
      },
      "source": [
        "# Summary\n",
        "***"
      ]
    },
    {
      "cell_type": "markdown",
      "metadata": {
        "id": "4bH7PLPaLvEI",
        "colab_type": "text"
      },
      "source": [
        "Linear Regression is a powerful, simple, and widely used model. It's great for both predictions and interpretations. Here are some things to keep in mind:\n",
        "\n",
        "- If all you care about is **prediction**, then correlated features may not be a big deal. \n",
        "- If you care about **interpretability** your features must be independent.\n",
        "- Look at Adjusted R2 when evaluating the performance, it only uses important features for its calculations, whereas R2 will always increase with each addtional new feature.\n",
        "- Always check the **assumptions** when you are trying to **interpret** the coefficients, OR ELSE your interpretations will be unreliable. \n"
      ]
    },
    {
      "cell_type": "markdown",
      "metadata": {
        "id": "vHN79_tALvEK",
        "colab_type": "text"
      },
      "source": [
        "# Questions\n",
        "***\n",
        "\n",
        "1. What Linear Regression training algorithm can you use if you have a training set with millions of features?\n",
        "2. What is adjusted R2?\n",
        "3. What are the assumptions of linear regression (simple linear and multiple)?\n",
        "4. What is meant by dependent and independent variables? (y is dependent, x are independents)\n",
        "5. What is difference between simple linear and multiple linear regressions?\n",
        "6. What is difference between regression model, and estimated regression equation?\n",
        "7. What is a residual? How is it computed? (actual y – estimated y)\n",
        "8. How do you interpret b1 in simple linear regression?\n",
        "9. How do you interpret b1 in multiple linear regressions?\n",
        "10. What happens when p value for t test is lower than alpha i.e. what do you conclude?"
      ]
    },
    {
      "cell_type": "code",
      "metadata": {
        "id": "ykB6pOAxLvEM",
        "colab_type": "code",
        "colab": {}
      },
      "source": [
        ""
      ],
      "execution_count": null,
      "outputs": []
    }
  ]
}