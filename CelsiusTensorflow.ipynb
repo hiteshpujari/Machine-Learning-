{
  "nbformat": 4,
  "nbformat_minor": 0,
  "metadata": {
    "colab": {
      "name": "CelsiusTensorflow.ipynb",
      "provenance": [],
      "authorship_tag": "ABX9TyPJuQvRagwyV0m+HSjBllId",
      "include_colab_link": true
    },
    "kernelspec": {
      "name": "python3",
      "display_name": "Python 3"
    }
  },
  "cells": [
    {
      "cell_type": "markdown",
      "metadata": {
        "id": "view-in-github",
        "colab_type": "text"
      },
      "source": [
        "<a href=\"https://colab.research.google.com/github/hiteshpujari/Machine-Learning-/blob/master/CelsiusTensorflow.ipynb\" target=\"_parent\"><img src=\"https://colab.research.google.com/assets/colab-badge.svg\" alt=\"Open In Colab\"/></a>"
      ]
    },
    {
      "cell_type": "code",
      "metadata": {
        "id": "LRnhAM-KRzct"
      },
      "source": [
        "import tensorflow as tf\n",
        "import numpy as np\n",
        "import matplotlib.pyplot as plt"
      ],
      "execution_count": 2,
      "outputs": []
    },
    {
      "cell_type": "code",
      "metadata": {
        "id": "su4J6_dvR63w"
      },
      "source": [
        "celsius   = np.array([-40, -10,  0,  8, 15, 22,  38])\n",
        "fahrenheit = np.array([-40,  -14, 32, 46, 59, 72, 100])"
      ],
      "execution_count": 6,
      "outputs": []
    },
    {
      "cell_type": "code",
      "metadata": {
        "id": "1QhZZMccTWvc"
      },
      "source": [
        "# First Dense layer\n",
        "L1 = tf.keras.layers.Dense(units=4, input_shape=[1])\n",
        "# Second Dense layer\n",
        "L2 = tf.keras.layers.Dense(units=4)\n",
        "# Third Dense Layer\n",
        "L3 = tf.keras.layers.Dense(units=1)\n"
      ],
      "execution_count": 11,
      "outputs": []
    },
    {
      "cell_type": "code",
      "metadata": {
        "id": "j1xe4SRHX3KW"
      },
      "source": [
        "# Let's assemble all the layers into a Sequential model\n",
        "model = tf.keras.Sequential([L1, L2, L3])"
      ],
      "execution_count": 12,
      "outputs": []
    },
    {
      "cell_type": "code",
      "metadata": {
        "id": "el3Z_frlW-Oe"
      },
      "source": [
        "# Let's compile the model\n",
        "model.compile(loss='mean_squared_error',\n",
        "              optimizer=tf.keras.optimizers.Adam(0.1))"
      ],
      "execution_count": 15,
      "outputs": []
    },
    {
      "cell_type": "code",
      "metadata": {
        "id": "Y3pYK9jVXOok",
        "outputId": "e4311492-7767-4b01-e99d-aedb52d02077",
        "colab": {
          "base_uri": "https://localhost:8080/"
        }
      },
      "source": [
        "# Let's train the model\n",
        "history = model.fit(celsius, fahrenheit, epochs=500, verbose=False)\n",
        "print(\"Finished training the model\")"
      ],
      "execution_count": 17,
      "outputs": [
        {
          "output_type": "stream",
          "text": [
            "Finished training the model\n"
          ],
          "name": "stdout"
        }
      ]
    },
    {
      "cell_type": "code",
      "metadata": {
        "id": "H5jOMbYeXUjY",
        "outputId": "3439b2f2-d651-4231-a2af-495e70a3e041",
        "colab": {
          "base_uri": "https://localhost:8080/"
        }
      },
      "source": [
        "# Now let's print out the layer variables of each layer\n",
        "print(\"These are the L1 variables: {}\".format(L1.get_weights()))\n",
        "print(\"These are the L2 variables: {}\".format(L2.get_weights()))\n",
        "print(\"These are the L3 variables: {}\".format(L3.get_weights()))"
      ],
      "execution_count": 18,
      "outputs": [
        {
          "output_type": "stream",
          "text": [
            "These are the L1 variables: [array([[ 0.64859605,  0.23661017, -0.36276034, -0.18930836]],\n",
            "      dtype=float32), array([ 3.5585542,  3.3339982, -3.2942388,  2.2568538], dtype=float32)]\n",
            "These are the L2 variables: [array([[-0.11193529,  1.2142446 ,  1.0558734 , -0.52500486],\n",
            "       [-0.48706666,  0.4856423 ,  0.03401187, -1.0981914 ],\n",
            "       [ 0.17538619, -1.1178257 , -0.42449215,  1.1368483 ],\n",
            "       [-1.0904557 ,  1.0660062 ,  0.15095878, -0.05305566]],\n",
            "      dtype=float32), array([-3.2854347,  3.6398983,  2.5832756, -2.4650762], dtype=float32)]\n",
            "These are the L3 variables: [array([[-0.7722175 ],\n",
            "       [ 0.80944365],\n",
            "       [ 0.43744308],\n",
            "       [-0.5084566 ]], dtype=float32), array([3.2107074], dtype=float32)]\n"
          ],
          "name": "stdout"
        }
      ]
    },
    {
      "cell_type": "code",
      "metadata": {
        "id": "cQKcVQBoZInJ",
        "outputId": "f0b119dd-09dc-437e-9301-4f51855f2e7a",
        "colab": {
          "base_uri": "https://localhost:8080/"
        }
      },
      "source": [
        "print(model.predict([100.0]))"
      ],
      "execution_count": 19,
      "outputs": [
        {
          "output_type": "stream",
          "text": [
            "[[211.74744]]\n"
          ],
          "name": "stdout"
        }
      ]
    },
    {
      "cell_type": "code",
      "metadata": {
        "id": "fJfrfWAeZLZA",
        "outputId": "5c7ceb99-bc22-46c8-f51d-9ddeba5a8c9a",
        "colab": {
          "base_uri": "https://localhost:8080/"
        }
      },
      "source": [
        "print(model.predict([37]))"
      ],
      "execution_count": 21,
      "outputs": [
        {
          "output_type": "stream",
          "text": [
            "[[98.47665]]\n"
          ],
          "name": "stdout"
        }
      ]
    },
    {
      "cell_type": "code",
      "metadata": {
        "id": "OZaHCO_hZQsL"
      },
      "source": [
        ""
      ],
      "execution_count": null,
      "outputs": []
    }
  ]
}